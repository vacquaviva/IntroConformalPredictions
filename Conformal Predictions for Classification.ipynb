{
 "cells": [
  {
   "cell_type": "code",
   "execution_count": 1,
   "id": "68a8c8ef",
   "metadata": {},
   "outputs": [],
   "source": [
    "import numpy as np\n",
    "import pandas as pd\n",
    "import matplotlib.pyplot as plt\n",
    "import seaborn as sns\n",
    "from sklearn.naive_bayes import GaussianNB\n",
    "from sklearn.preprocessing import LabelEncoder, StandardScaler\n",
    "from sklearn.ensemble import RandomForestClassifier\n",
    "from sklearn.model_selection import train_test_split, cross_validate, cross_val_predict\n",
    "from sklearn.metrics import confusion_matrix, classification_report \n",
    "from sklearn.model_selection import KFold"
   ]
  },
  {
   "cell_type": "code",
   "execution_count": 2,
   "id": "74e7b408",
   "metadata": {},
   "outputs": [],
   "source": [
    "from mapie.classification import MapieClassifier\n",
    "from mapie.metrics import (classification_coverage_score,\n",
    "                           classification_mean_width_score)"
   ]
  },
  {
   "cell_type": "markdown",
   "id": "9a113bd4",
   "metadata": {},
   "source": [
    "This is a basic data set from an old Kaggle competition. There are 3 classes, galaxy/star/quasar, and the input features are some photometric bands. "
   ]
  },
  {
   "cell_type": "code",
   "execution_count": 3,
   "id": "29149d45",
   "metadata": {},
   "outputs": [],
   "source": [
    "df = pd.read_csv('star_classification.csv')"
   ]
  },
  {
   "cell_type": "code",
   "execution_count": 4,
   "id": "615238f2",
   "metadata": {},
   "outputs": [
    {
     "data": {
      "text/plain": [
       "Index(['obj_ID', 'alpha', 'delta', 'u', 'g', 'r', 'i', 'z', 'run_ID',\n",
       "       'rerun_ID', 'cam_col', 'field_ID', 'spec_obj_ID', 'class', 'redshift',\n",
       "       'plate', 'MJD', 'fiber_ID'],\n",
       "      dtype='object')"
      ]
     },
     "execution_count": 4,
     "metadata": {},
     "output_type": "execute_result"
    }
   ],
   "source": [
    "df.columns"
   ]
  },
  {
   "cell_type": "markdown",
   "id": "54de5a59",
   "metadata": {},
   "source": [
    "We start by transforming the labels from string to integer:"
   ]
  },
  {
   "cell_type": "code",
   "execution_count": 5,
   "id": "a104a445",
   "metadata": {},
   "outputs": [
    {
     "data": {
      "text/plain": [
       "class\n",
       "0    59445\n",
       "2    21594\n",
       "1    18961\n",
       "Name: count, dtype: int64"
      ]
     },
     "execution_count": 5,
     "metadata": {},
     "output_type": "execute_result"
    }
   ],
   "source": [
    "LE = LabelEncoder()\n",
    "df['class'] = LE.fit_transform(df['class'])\n",
    "df['class'].value_counts()"
   ]
  },
  {
   "cell_type": "markdown",
   "id": "671627af",
   "metadata": {},
   "source": [
    "And we get rid of some columns to define our basic feature matrix/target vector (X and y):"
   ]
  },
  {
   "cell_type": "code",
   "execution_count": 6,
   "id": "82f1b1f9",
   "metadata": {},
   "outputs": [],
   "source": [
    "X = df.drop(['obj_ID','alpha','delta','run_ID','rerun_ID','cam_col','field_ID','fiber_ID', 'spec_obj_ID', 'MJD', 'class', 'plate'], axis = 1)\n",
    "y = df['class']"
   ]
  },
  {
   "cell_type": "code",
   "execution_count": 7,
   "id": "7eb8dc89",
   "metadata": {},
   "outputs": [
    {
     "data": {
      "text/html": [
       "<div>\n",
       "<style scoped>\n",
       "    .dataframe tbody tr th:only-of-type {\n",
       "        vertical-align: middle;\n",
       "    }\n",
       "\n",
       "    .dataframe tbody tr th {\n",
       "        vertical-align: top;\n",
       "    }\n",
       "\n",
       "    .dataframe thead th {\n",
       "        text-align: right;\n",
       "    }\n",
       "</style>\n",
       "<table border=\"1\" class=\"dataframe\">\n",
       "  <thead>\n",
       "    <tr style=\"text-align: right;\">\n",
       "      <th></th>\n",
       "      <th>u</th>\n",
       "      <th>g</th>\n",
       "      <th>r</th>\n",
       "      <th>i</th>\n",
       "      <th>z</th>\n",
       "      <th>redshift</th>\n",
       "    </tr>\n",
       "  </thead>\n",
       "  <tbody>\n",
       "    <tr>\n",
       "      <th>0</th>\n",
       "      <td>23.87882</td>\n",
       "      <td>22.27530</td>\n",
       "      <td>20.39501</td>\n",
       "      <td>19.16573</td>\n",
       "      <td>18.79371</td>\n",
       "      <td>0.634794</td>\n",
       "    </tr>\n",
       "    <tr>\n",
       "      <th>1</th>\n",
       "      <td>24.77759</td>\n",
       "      <td>22.83188</td>\n",
       "      <td>22.58444</td>\n",
       "      <td>21.16812</td>\n",
       "      <td>21.61427</td>\n",
       "      <td>0.779136</td>\n",
       "    </tr>\n",
       "    <tr>\n",
       "      <th>2</th>\n",
       "      <td>25.26307</td>\n",
       "      <td>22.66389</td>\n",
       "      <td>20.60976</td>\n",
       "      <td>19.34857</td>\n",
       "      <td>18.94827</td>\n",
       "      <td>0.644195</td>\n",
       "    </tr>\n",
       "    <tr>\n",
       "      <th>3</th>\n",
       "      <td>22.13682</td>\n",
       "      <td>23.77656</td>\n",
       "      <td>21.61162</td>\n",
       "      <td>20.50454</td>\n",
       "      <td>19.25010</td>\n",
       "      <td>0.932346</td>\n",
       "    </tr>\n",
       "    <tr>\n",
       "      <th>4</th>\n",
       "      <td>19.43718</td>\n",
       "      <td>17.58028</td>\n",
       "      <td>16.49747</td>\n",
       "      <td>15.97711</td>\n",
       "      <td>15.54461</td>\n",
       "      <td>0.116123</td>\n",
       "    </tr>\n",
       "  </tbody>\n",
       "</table>\n",
       "</div>"
      ],
      "text/plain": [
       "          u         g         r         i         z  redshift\n",
       "0  23.87882  22.27530  20.39501  19.16573  18.79371  0.634794\n",
       "1  24.77759  22.83188  22.58444  21.16812  21.61427  0.779136\n",
       "2  25.26307  22.66389  20.60976  19.34857  18.94827  0.644195\n",
       "3  22.13682  23.77656  21.61162  20.50454  19.25010  0.932346\n",
       "4  19.43718  17.58028  16.49747  15.97711  15.54461  0.116123"
      ]
     },
     "execution_count": 7,
     "metadata": {},
     "output_type": "execute_result"
    }
   ],
   "source": [
    "X.head()"
   ]
  },
  {
   "cell_type": "markdown",
   "id": "70402be1",
   "metadata": {},
   "source": [
    "We will be using two models, a Gaussian Naive Bayes model (pretty poor) and a Random Forest Classifier (better) in order to show the differences when conformal predictions are used."
   ]
  },
  {
   "cell_type": "code",
   "execution_count": 8,
   "id": "a506768a",
   "metadata": {},
   "outputs": [],
   "source": [
    "modelNB = GaussianNB()"
   ]
  },
  {
   "cell_type": "code",
   "execution_count": 9,
   "id": "be60086f",
   "metadata": {},
   "outputs": [],
   "source": [
    "pred = cross_val_predict(modelNB, X, y, cv = KFold(n_splits = 5, shuffle=True, random_state=10))"
   ]
  },
  {
   "cell_type": "code",
   "execution_count": 10,
   "id": "0163c73b",
   "metadata": {},
   "outputs": [
    {
     "name": "stdout",
     "output_type": "stream",
     "text": [
      "[[54366  4962   117]\n",
      " [ 2278 16682     1]\n",
      " [12857  2554  6183]]\n"
     ]
    }
   ],
   "source": [
    "print(confusion_matrix(y, pred))  #Not too impressive"
   ]
  },
  {
   "cell_type": "code",
   "execution_count": 11,
   "id": "f945f517",
   "metadata": {},
   "outputs": [
    {
     "name": "stdout",
     "output_type": "stream",
     "text": [
      "              precision    recall  f1-score   support\n",
      "\n",
      "           0       0.78      0.91      0.84     59445\n",
      "           1       0.69      0.88      0.77     18961\n",
      "           2       0.98      0.29      0.44     21594\n",
      "\n",
      "    accuracy                           0.77    100000\n",
      "   macro avg       0.82      0.69      0.69    100000\n",
      "weighted avg       0.81      0.77      0.74    100000\n",
      "\n"
     ]
    }
   ],
   "source": [
    "print(classification_report(y, pred))"
   ]
  },
  {
   "cell_type": "code",
   "execution_count": 12,
   "id": "ed23b00e",
   "metadata": {},
   "outputs": [],
   "source": [
    "#This takes a little longer to run\n",
    "\n",
    "modelRF = RandomForestClassifier(random_state = 10, class_weight='balanced')"
   ]
  },
  {
   "cell_type": "code",
   "execution_count": 13,
   "id": "f858815e",
   "metadata": {},
   "outputs": [],
   "source": [
    "predb = cross_val_predict(modelRF, X, y, cv = KFold(n_splits = 5, shuffle=True, random_state=10))"
   ]
  },
  {
   "cell_type": "code",
   "execution_count": 14,
   "id": "629840bd",
   "metadata": {},
   "outputs": [
    {
     "name": "stdout",
     "output_type": "stream",
     "text": [
      "[[58705   645    95]\n",
      " [ 1370 17588     3]\n",
      " [   13     0 21581]]\n"
     ]
    }
   ],
   "source": [
    "print(confusion_matrix(y, predb)) # Much better results"
   ]
  },
  {
   "cell_type": "code",
   "execution_count": 15,
   "id": "d74304db",
   "metadata": {},
   "outputs": [
    {
     "name": "stdout",
     "output_type": "stream",
     "text": [
      "              precision    recall  f1-score   support\n",
      "\n",
      "           0       0.98      0.99      0.98     59445\n",
      "           1       0.96      0.93      0.95     18961\n",
      "           2       1.00      1.00      1.00     21594\n",
      "\n",
      "    accuracy                           0.98    100000\n",
      "   macro avg       0.98      0.97      0.98    100000\n",
      "weighted avg       0.98      0.98      0.98    100000\n",
      "\n"
     ]
    }
   ],
   "source": [
    "print(classification_report(y, predb)) "
   ]
  },
  {
   "cell_type": "markdown",
   "id": "eda3d0bc",
   "metadata": {},
   "source": [
    "### Conformal predictions"
   ]
  },
  {
   "cell_type": "markdown",
   "id": "1ae02571",
   "metadata": {},
   "source": [
    "Let's now start with the conformal predictions part, beginning with the first model."
   ]
  },
  {
   "cell_type": "code",
   "execution_count": 16,
   "id": "179af417",
   "metadata": {},
   "outputs": [],
   "source": [
    "model = modelNB"
   ]
  },
  {
   "cell_type": "markdown",
   "id": "da414402",
   "metadata": {},
   "source": [
    "We split the data in training and calibration sets (we should do train/calibration/validation, see below); this is to illustrate how it works."
   ]
  },
  {
   "cell_type": "code",
   "execution_count": 17,
   "id": "c313baf3",
   "metadata": {},
   "outputs": [],
   "source": [
    "X_train, X_calib, y_train, y_calib = train_test_split(X, y, test_size=0.33, random_state=10)"
   ]
  },
  {
   "cell_type": "code",
   "execution_count": 18,
   "id": "78b675b8",
   "metadata": {},
   "outputs": [
    {
     "data": {
      "text/html": [
       "<style>#sk-container-id-1 {color: black;}#sk-container-id-1 pre{padding: 0;}#sk-container-id-1 div.sk-toggleable {background-color: white;}#sk-container-id-1 label.sk-toggleable__label {cursor: pointer;display: block;width: 100%;margin-bottom: 0;padding: 0.3em;box-sizing: border-box;text-align: center;}#sk-container-id-1 label.sk-toggleable__label-arrow:before {content: \"▸\";float: left;margin-right: 0.25em;color: #696969;}#sk-container-id-1 label.sk-toggleable__label-arrow:hover:before {color: black;}#sk-container-id-1 div.sk-estimator:hover label.sk-toggleable__label-arrow:before {color: black;}#sk-container-id-1 div.sk-toggleable__content {max-height: 0;max-width: 0;overflow: hidden;text-align: left;background-color: #f0f8ff;}#sk-container-id-1 div.sk-toggleable__content pre {margin: 0.2em;color: black;border-radius: 0.25em;background-color: #f0f8ff;}#sk-container-id-1 input.sk-toggleable__control:checked~div.sk-toggleable__content {max-height: 200px;max-width: 100%;overflow: auto;}#sk-container-id-1 input.sk-toggleable__control:checked~label.sk-toggleable__label-arrow:before {content: \"▾\";}#sk-container-id-1 div.sk-estimator input.sk-toggleable__control:checked~label.sk-toggleable__label {background-color: #d4ebff;}#sk-container-id-1 div.sk-label input.sk-toggleable__control:checked~label.sk-toggleable__label {background-color: #d4ebff;}#sk-container-id-1 input.sk-hidden--visually {border: 0;clip: rect(1px 1px 1px 1px);clip: rect(1px, 1px, 1px, 1px);height: 1px;margin: -1px;overflow: hidden;padding: 0;position: absolute;width: 1px;}#sk-container-id-1 div.sk-estimator {font-family: monospace;background-color: #f0f8ff;border: 1px dotted black;border-radius: 0.25em;box-sizing: border-box;margin-bottom: 0.5em;}#sk-container-id-1 div.sk-estimator:hover {background-color: #d4ebff;}#sk-container-id-1 div.sk-parallel-item::after {content: \"\";width: 100%;border-bottom: 1px solid gray;flex-grow: 1;}#sk-container-id-1 div.sk-label:hover label.sk-toggleable__label {background-color: #d4ebff;}#sk-container-id-1 div.sk-serial::before {content: \"\";position: absolute;border-left: 1px solid gray;box-sizing: border-box;top: 0;bottom: 0;left: 50%;z-index: 0;}#sk-container-id-1 div.sk-serial {display: flex;flex-direction: column;align-items: center;background-color: white;padding-right: 0.2em;padding-left: 0.2em;position: relative;}#sk-container-id-1 div.sk-item {position: relative;z-index: 1;}#sk-container-id-1 div.sk-parallel {display: flex;align-items: stretch;justify-content: center;background-color: white;position: relative;}#sk-container-id-1 div.sk-item::before, #sk-container-id-1 div.sk-parallel-item::before {content: \"\";position: absolute;border-left: 1px solid gray;box-sizing: border-box;top: 0;bottom: 0;left: 50%;z-index: -1;}#sk-container-id-1 div.sk-parallel-item {display: flex;flex-direction: column;z-index: 1;position: relative;background-color: white;}#sk-container-id-1 div.sk-parallel-item:first-child::after {align-self: flex-end;width: 50%;}#sk-container-id-1 div.sk-parallel-item:last-child::after {align-self: flex-start;width: 50%;}#sk-container-id-1 div.sk-parallel-item:only-child::after {width: 0;}#sk-container-id-1 div.sk-dashed-wrapped {border: 1px dashed gray;margin: 0 0.4em 0.5em 0.4em;box-sizing: border-box;padding-bottom: 0.4em;background-color: white;}#sk-container-id-1 div.sk-label label {font-family: monospace;font-weight: bold;display: inline-block;line-height: 1.2em;}#sk-container-id-1 div.sk-label-container {text-align: center;}#sk-container-id-1 div.sk-container {/* jupyter's `normalize.less` sets `[hidden] { display: none; }` but bootstrap.min.css set `[hidden] { display: none !important; }` so we also need the `!important` here to be able to override the default hidden behavior on the sphinx rendered scikit-learn.org. See: https://github.com/scikit-learn/scikit-learn/issues/21755 */display: inline-block !important;position: relative;}#sk-container-id-1 div.sk-text-repr-fallback {display: none;}</style><div id=\"sk-container-id-1\" class=\"sk-top-container\"><div class=\"sk-text-repr-fallback\"><pre>GaussianNB()</pre><b>In a Jupyter environment, please rerun this cell to show the HTML representation or trust the notebook. <br />On GitHub, the HTML representation is unable to render, please try loading this page with nbviewer.org.</b></div><div class=\"sk-container\" hidden><div class=\"sk-item\"><div class=\"sk-estimator sk-toggleable\"><input class=\"sk-toggleable__control sk-hidden--visually\" id=\"sk-estimator-id-1\" type=\"checkbox\" checked><label for=\"sk-estimator-id-1\" class=\"sk-toggleable__label sk-toggleable__label-arrow\">GaussianNB</label><div class=\"sk-toggleable__content\"><pre>GaussianNB()</pre></div></div></div></div></div>"
      ],
      "text/plain": [
       "GaussianNB()"
      ]
     },
     "execution_count": 18,
     "metadata": {},
     "output_type": "execute_result"
    }
   ],
   "source": [
    "model.fit(X_train, y_train)"
   ]
  },
  {
   "cell_type": "code",
   "execution_count": 19,
   "id": "5f809be7",
   "metadata": {},
   "outputs": [],
   "source": [
    "n = len(y_calib) #we need a correction for finite set size"
   ]
  },
  {
   "cell_type": "markdown",
   "id": "97272244",
   "metadata": {},
   "source": [
    "We start by generating probabilities from naive model"
   ]
  },
  {
   "cell_type": "code",
   "execution_count": 20,
   "id": "a79dff23",
   "metadata": {},
   "outputs": [],
   "source": [
    "pred_calib = model.predict_proba(X_calib) "
   ]
  },
  {
   "cell_type": "code",
   "execution_count": 21,
   "id": "4f9b57fe",
   "metadata": {},
   "outputs": [
    {
     "data": {
      "text/plain": [
       "array([7.33553785e-08, 9.99999927e-01, 0.00000000e+00])"
      ]
     },
     "execution_count": 21,
     "metadata": {},
     "output_type": "execute_result"
    }
   ],
   "source": [
    "pred_calib[0] # for the first element, these are probabilities associated to each class. "
   ]
  },
  {
   "cell_type": "markdown",
   "id": "231ccd54",
   "metadata": {},
   "source": [
    "Next, we define the probability associated to the true class for each object."
   ]
  },
  {
   "cell_type": "code",
   "execution_count": 22,
   "id": "322ad165",
   "metadata": {},
   "outputs": [],
   "source": [
    "prob_true_class = pred_calib[np.arange(len(y_calib)),y_calib] "
   ]
  },
  {
   "cell_type": "code",
   "execution_count": 23,
   "id": "a8b492ce",
   "metadata": {},
   "outputs": [
    {
     "data": {
      "text/plain": [
       "array([0.99999993, 0.98120114, 0.01146975, ..., 0.98667419, 0.99999583,\n",
       "       0.9921384 ])"
      ]
     },
     "execution_count": 23,
     "metadata": {},
     "output_type": "execute_result"
    }
   ],
   "source": [
    "prob_true_class"
   ]
  },
  {
   "cell_type": "markdown",
   "id": "285c7658",
   "metadata": {},
   "source": [
    "#### In the simplest formulation of CP, the non-conformity scores (low = good, high = bad) are defined as: 1 - prob_true_class:"
   ]
  },
  {
   "cell_type": "code",
   "execution_count": 24,
   "id": "f95dcbd3",
   "metadata": {},
   "outputs": [],
   "source": [
    "cscores = 1 - prob_true_class"
   ]
  },
  {
   "cell_type": "code",
   "execution_count": 25,
   "id": "56d3cf7f",
   "metadata": {},
   "outputs": [],
   "source": [
    "#Take a look"
   ]
  },
  {
   "cell_type": "code",
   "execution_count": 26,
   "id": "07157c5c",
   "metadata": {},
   "outputs": [
    {
     "data": {
      "image/png": "[encoded data removed]",
      "text/plain": [
       "<Figure size 640x480 with 1 Axes>"
      ]
     },
     "metadata": {},
     "output_type": "display_data"
    }
   ],
   "source": [
    "plt.hist(cscores, bins = 100);"
   ]
  },
  {
   "cell_type": "markdown",
   "id": "0fea8568",
   "metadata": {},
   "source": [
    "On average, what is the 90% (or any other quantile) of the conformal scores? Setting 1- this as probability threshold that is included will guarantee that on average, the true value is within the set at least 90% of the time (*marginal* coverage guarantee)."
   ]
  },
  {
   "cell_type": "code",
   "execution_count": 27,
   "id": "540acc42",
   "metadata": {},
   "outputs": [],
   "source": [
    "alpha = 0.1"
   ]
  },
  {
   "cell_type": "markdown",
   "id": "8d21582d",
   "metadata": {},
   "source": [
    "We can now find the quantile of conformal scores associated with that probability:"
   ]
  },
  {
   "cell_type": "code",
   "execution_count": 28,
   "id": "a78dfb75",
   "metadata": {},
   "outputs": [],
   "source": [
    "qhat = np.quantile(cscores, (1-alpha)*(n+1)/n)"
   ]
  },
  {
   "cell_type": "code",
   "execution_count": 29,
   "id": "2edefed4",
   "metadata": {},
   "outputs": [
    {
     "data": {
      "text/plain": [
       "0.993543076537016"
      ]
     },
     "execution_count": 29,
     "metadata": {},
     "output_type": "execute_result"
    }
   ],
   "source": [
    "qhat "
   ]
  },
  {
   "cell_type": "markdown",
   "id": "f5e6e741",
   "metadata": {},
   "source": [
    "Because this model is not great, the quantile we need to reach is very high. Remember, we include any class that is predicted with at least 1 - qhat probability."
   ]
  },
  {
   "cell_type": "code",
   "execution_count": 30,
   "id": "8c60ca2d",
   "metadata": {},
   "outputs": [
    {
     "data": {
      "text/plain": [
       "0.006456923462983988"
      ]
     },
     "execution_count": 30,
     "metadata": {},
     "output_type": "execute_result"
    }
   ],
   "source": [
    "1 - qhat"
   ]
  },
  {
   "cell_type": "code",
   "execution_count": 31,
   "id": "315d2467",
   "metadata": {},
   "outputs": [
    {
     "data": {
      "text/plain": [
       "array([[7.33553785e-008, 9.99999927e-001, 0.00000000e+000],\n",
       "       [9.81201143e-001, 1.87988566e-002, 0.00000000e+000],\n",
       "       [9.87988364e-001, 5.41888914e-004, 1.14697470e-002],\n",
       "       [1.00000000e+000, 2.62292233e-010, 9.06898750e-141],\n",
       "       [9.37226777e-008, 9.99999906e-001, 0.00000000e+000],\n",
       "       [9.99973294e-001, 2.67062113e-005, 0.00000000e+000],\n",
       "       [4.56367772e-003, 9.95436322e-001, 0.00000000e+000],\n",
       "       [8.39620143e-001, 1.56044164e-001, 4.33569345e-003],\n",
       "       [9.94538529e-001, 1.90240379e-003, 3.55906759e-003],\n",
       "       [3.66459338e-001, 4.22342943e-012, 6.33540662e-001]])"
      ]
     },
     "execution_count": 31,
     "metadata": {},
     "output_type": "execute_result"
    }
   ],
   "source": [
    "#These are the probs for the first 10 objects. Any time we find p > \"value above\", the class will be included in the set.\n",
    "\n",
    "model.predict_proba(X_calib)[:10] "
   ]
  },
  {
   "cell_type": "markdown",
   "id": "c2e174fb",
   "metadata": {},
   "source": [
    "#### Finally, we calculate prediction sets on calibration data:"
   ]
  },
  {
   "cell_type": "code",
   "execution_count": 32,
   "id": "dd463e00",
   "metadata": {},
   "outputs": [],
   "source": [
    "prediction_sets = (model.predict_proba(X_calib) >= 1 - qhat) "
   ]
  },
  {
   "cell_type": "markdown",
   "id": "9869ad34",
   "metadata": {},
   "source": [
    "Let's compare the predictions for the first 10 objects with the original model and the new strategy:"
   ]
  },
  {
   "cell_type": "code",
   "execution_count": 33,
   "id": "3b1cac7f",
   "metadata": {},
   "outputs": [],
   "source": [
    "y_calib_pred = model.predict(X_calib)"
   ]
  },
  {
   "cell_type": "code",
   "execution_count": 34,
   "id": "b7128629",
   "metadata": {},
   "outputs": [
    {
     "data": {
      "text/plain": [
       "33226    1\n",
       "64804    0\n",
       "39763    2\n",
       "51270    0\n",
       "9698     1\n",
       "5948     1\n",
       "27955    1\n",
       "55001    2\n",
       "50875    2\n",
       "47755    2\n",
       "Name: class, dtype: int64"
      ]
     },
     "execution_count": 34,
     "metadata": {},
     "output_type": "execute_result"
    }
   ],
   "source": [
    "y_calib[:10] #True values, for reference"
   ]
  },
  {
   "cell_type": "code",
   "execution_count": 35,
   "id": "66397337",
   "metadata": {},
   "outputs": [
    {
     "data": {
      "text/plain": [
       "array([[1],\n",
       "       [0],\n",
       "       [0],\n",
       "       [0],\n",
       "       [1],\n",
       "       [0],\n",
       "       [1],\n",
       "       [0],\n",
       "       [0],\n",
       "       [2]])"
      ]
     },
     "execution_count": 35,
     "metadata": {},
     "output_type": "execute_result"
    }
   ],
   "source": [
    "y_calib_pred[:10].reshape(-1,1) #Classes predicted by the NB model"
   ]
  },
  {
   "cell_type": "markdown",
   "id": "cb0f5faa",
   "metadata": {},
   "source": [
    "Here are the prediction sets (original they are boolean variables so we re-cast them as integer):"
   ]
  },
  {
   "cell_type": "code",
   "execution_count": 36,
   "id": "740c5a66",
   "metadata": {},
   "outputs": [
    {
     "data": {
      "text/plain": [
       "array([[0, 1, 0],\n",
       "       [1, 1, 0],\n",
       "       [1, 0, 1],\n",
       "       [1, 0, 0],\n",
       "       [0, 1, 0],\n",
       "       [1, 0, 0],\n",
       "       [0, 1, 0],\n",
       "       [1, 1, 0],\n",
       "       [1, 0, 0],\n",
       "       [1, 0, 1]])"
      ]
     },
     "execution_count": 36,
     "metadata": {},
     "output_type": "execute_result"
    }
   ],
   "source": [
    "prediction_sets[:10].astype(int) #For example, for object 2, two classes are included; for object 3, all classes"
   ]
  },
  {
   "cell_type": "markdown",
   "id": "1ce3b080",
   "metadata": {},
   "source": [
    "#### Let's now check our guaranteed marginal coverage."
   ]
  },
  {
   "cell_type": "code",
   "execution_count": 37,
   "id": "ccae00b1",
   "metadata": {},
   "outputs": [
    {
     "data": {
      "text/plain": [
       "array([ True,  True,  True, ...,  True,  True,  True])"
      ]
     },
     "execution_count": 37,
     "metadata": {},
     "output_type": "execute_result"
    }
   ],
   "source": [
    "prediction_sets[np.arange(len(y_calib)), y_calib] #This returns whether true label is in set"
   ]
  },
  {
   "cell_type": "markdown",
   "id": "f15b9f5f",
   "metadata": {},
   "source": [
    "We can average this to get the empirical coverage:"
   ]
  },
  {
   "cell_type": "code",
   "execution_count": 38,
   "id": "8f0d12d8",
   "metadata": {},
   "outputs": [],
   "source": [
    "empirical_coverage = prediction_sets[np.arange(len(y_calib)), y_calib].mean()"
   ]
  },
  {
   "cell_type": "code",
   "execution_count": 39,
   "id": "0a724eba",
   "metadata": {},
   "outputs": [
    {
     "data": {
      "text/plain": [
       "0.9"
      ]
     },
     "execution_count": 39,
     "metadata": {},
     "output_type": "execute_result"
    }
   ],
   "source": [
    "empirical_coverage "
   ]
  },
  {
   "cell_type": "markdown",
   "id": "bd94bc0f",
   "metadata": {},
   "source": [
    "Success! (empirical coverage matches request!)"
   ]
  },
  {
   "cell_type": "markdown",
   "id": "420c7762",
   "metadata": {},
   "source": [
    "Finally, we can calculate the average set size and the spread of set sizes - this is important, because (given same marginal coverage) better models will yield 1) smaller prediction sets; 2) higher spread in set size, which is evidence of adaptivity.\n",
    "\n",
    "Note that this is less meaningful when there are few classes!\n"
   ]
  },
  {
   "cell_type": "code",
   "execution_count": 40,
   "id": "591c380e",
   "metadata": {},
   "outputs": [
    {
     "data": {
      "text/plain": [
       "1.5833030303030302"
      ]
     },
     "execution_count": 40,
     "metadata": {},
     "output_type": "execute_result"
    }
   ],
   "source": [
    "# Average set size \n",
    "\n",
    "prediction_sets.sum(axis=1).mean()"
   ]
  },
  {
   "cell_type": "code",
   "execution_count": 41,
   "id": "b2e2673d",
   "metadata": {},
   "outputs": [
    {
     "data": {
      "image/png": "[encoded data removed]",
      "text/plain": [
       "<Figure size 640x480 with 1 Axes>"
      ]
     },
     "metadata": {},
     "output_type": "display_data"
    }
   ],
   "source": [
    "# Distribution of sizes\n",
    "\n",
    "plt.hist(prediction_sets.sum(axis=1));"
   ]
  },
  {
   "cell_type": "markdown",
   "id": "24277f61",
   "metadata": {},
   "source": [
    "### What would happen when we use the better model (e.g., Random Forest?)"
   ]
  },
  {
   "cell_type": "markdown",
   "id": "291b489c",
   "metadata": {},
   "source": [
    "Expectations:\n",
    "    \n",
    "    Same marginal coverage\n",
    "    \n",
    "    Smaller prediction sets"
   ]
  },
  {
   "cell_type": "code",
   "execution_count": 42,
   "id": "66c0df28",
   "metadata": {},
   "outputs": [],
   "source": [
    "model = RandomForestClassifier(random_state=10)"
   ]
  },
  {
   "cell_type": "code",
   "execution_count": 43,
   "id": "29bb49c1",
   "metadata": {},
   "outputs": [],
   "source": [
    "X_train, X_calib, y_train, y_calib = train_test_split(X, y, test_size=0.33, random_state=10)"
   ]
  },
  {
   "cell_type": "code",
   "execution_count": 44,
   "id": "8a995224",
   "metadata": {},
   "outputs": [
    {
     "data": {
      "text/html": [
       "<style>#sk-container-id-2 {color: black;}#sk-container-id-2 pre{padding: 0;}#sk-container-id-2 div.sk-toggleable {background-color: white;}#sk-container-id-2 label.sk-toggleable__label {cursor: pointer;display: block;width: 100%;margin-bottom: 0;padding: 0.3em;box-sizing: border-box;text-align: center;}#sk-container-id-2 label.sk-toggleable__label-arrow:before {content: \"▸\";float: left;margin-right: 0.25em;color: #696969;}#sk-container-id-2 label.sk-toggleable__label-arrow:hover:before {color: black;}#sk-container-id-2 div.sk-estimator:hover label.sk-toggleable__label-arrow:before {color: black;}#sk-container-id-2 div.sk-toggleable__content {max-height: 0;max-width: 0;overflow: hidden;text-align: left;background-color: #f0f8ff;}#sk-container-id-2 div.sk-toggleable__content pre {margin: 0.2em;color: black;border-radius: 0.25em;background-color: #f0f8ff;}#sk-container-id-2 input.sk-toggleable__control:checked~div.sk-toggleable__content {max-height: 200px;max-width: 100%;overflow: auto;}#sk-container-id-2 input.sk-toggleable__control:checked~label.sk-toggleable__label-arrow:before {content: \"▾\";}#sk-container-id-2 div.sk-estimator input.sk-toggleable__control:checked~label.sk-toggleable__label {background-color: #d4ebff;}#sk-container-id-2 div.sk-label input.sk-toggleable__control:checked~label.sk-toggleable__label {background-color: #d4ebff;}#sk-container-id-2 input.sk-hidden--visually {border: 0;clip: rect(1px 1px 1px 1px);clip: rect(1px, 1px, 1px, 1px);height: 1px;margin: -1px;overflow: hidden;padding: 0;position: absolute;width: 1px;}#sk-container-id-2 div.sk-estimator {font-family: monospace;background-color: #f0f8ff;border: 1px dotted black;border-radius: 0.25em;box-sizing: border-box;margin-bottom: 0.5em;}#sk-container-id-2 div.sk-estimator:hover {background-color: #d4ebff;}#sk-container-id-2 div.sk-parallel-item::after {content: \"\";width: 100%;border-bottom: 1px solid gray;flex-grow: 1;}#sk-container-id-2 div.sk-label:hover label.sk-toggleable__label {background-color: #d4ebff;}#sk-container-id-2 div.sk-serial::before {content: \"\";position: absolute;border-left: 1px solid gray;box-sizing: border-box;top: 0;bottom: 0;left: 50%;z-index: 0;}#sk-container-id-2 div.sk-serial {display: flex;flex-direction: column;align-items: center;background-color: white;padding-right: 0.2em;padding-left: 0.2em;position: relative;}#sk-container-id-2 div.sk-item {position: relative;z-index: 1;}#sk-container-id-2 div.sk-parallel {display: flex;align-items: stretch;justify-content: center;background-color: white;position: relative;}#sk-container-id-2 div.sk-item::before, #sk-container-id-2 div.sk-parallel-item::before {content: \"\";position: absolute;border-left: 1px solid gray;box-sizing: border-box;top: 0;bottom: 0;left: 50%;z-index: -1;}#sk-container-id-2 div.sk-parallel-item {display: flex;flex-direction: column;z-index: 1;position: relative;background-color: white;}#sk-container-id-2 div.sk-parallel-item:first-child::after {align-self: flex-end;width: 50%;}#sk-container-id-2 div.sk-parallel-item:last-child::after {align-self: flex-start;width: 50%;}#sk-container-id-2 div.sk-parallel-item:only-child::after {width: 0;}#sk-container-id-2 div.sk-dashed-wrapped {border: 1px dashed gray;margin: 0 0.4em 0.5em 0.4em;box-sizing: border-box;padding-bottom: 0.4em;background-color: white;}#sk-container-id-2 div.sk-label label {font-family: monospace;font-weight: bold;display: inline-block;line-height: 1.2em;}#sk-container-id-2 div.sk-label-container {text-align: center;}#sk-container-id-2 div.sk-container {/* jupyter's `normalize.less` sets `[hidden] { display: none; }` but bootstrap.min.css set `[hidden] { display: none !important; }` so we also need the `!important` here to be able to override the default hidden behavior on the sphinx rendered scikit-learn.org. See: https://github.com/scikit-learn/scikit-learn/issues/21755 */display: inline-block !important;position: relative;}#sk-container-id-2 div.sk-text-repr-fallback {display: none;}</style><div id=\"sk-container-id-2\" class=\"sk-top-container\"><div class=\"sk-text-repr-fallback\"><pre>RandomForestClassifier(random_state=10)</pre><b>In a Jupyter environment, please rerun this cell to show the HTML representation or trust the notebook. <br />On GitHub, the HTML representation is unable to render, please try loading this page with nbviewer.org.</b></div><div class=\"sk-container\" hidden><div class=\"sk-item\"><div class=\"sk-estimator sk-toggleable\"><input class=\"sk-toggleable__control sk-hidden--visually\" id=\"sk-estimator-id-2\" type=\"checkbox\" checked><label for=\"sk-estimator-id-2\" class=\"sk-toggleable__label sk-toggleable__label-arrow\">RandomForestClassifier</label><div class=\"sk-toggleable__content\"><pre>RandomForestClassifier(random_state=10)</pre></div></div></div></div></div>"
      ],
      "text/plain": [
       "RandomForestClassifier(random_state=10)"
      ]
     },
     "execution_count": 44,
     "metadata": {},
     "output_type": "execute_result"
    }
   ],
   "source": [
    "model.fit(X_train, y_train)"
   ]
  },
  {
   "cell_type": "markdown",
   "id": "fc6f1c74",
   "metadata": {},
   "source": [
    "We start by generating new probabilities:"
   ]
  },
  {
   "cell_type": "code",
   "execution_count": 45,
   "id": "5d9b5191",
   "metadata": {},
   "outputs": [],
   "source": [
    "pred_calib = model.predict_proba(X_calib) "
   ]
  },
  {
   "cell_type": "markdown",
   "id": "18ff1369",
   "metadata": {},
   "source": [
    "Next, we define the probability associated to the true class for each object."
   ]
  },
  {
   "cell_type": "code",
   "execution_count": 46,
   "id": "ef101bf2",
   "metadata": {},
   "outputs": [],
   "source": [
    "prob_true_class = pred_calib[np.arange(len(y_calib)),y_calib] "
   ]
  },
  {
   "cell_type": "code",
   "execution_count": 47,
   "id": "6c74a308",
   "metadata": {},
   "outputs": [
    {
     "data": {
      "text/plain": [
       "array([1.  , 0.97, 1.  , ..., 0.99, 1.  , 1.  ])"
      ]
     },
     "execution_count": 47,
     "metadata": {},
     "output_type": "execute_result"
    }
   ],
   "source": [
    "prob_true_class"
   ]
  },
  {
   "cell_type": "markdown",
   "id": "8407485b",
   "metadata": {},
   "source": [
    "We can derive the non-conformity scores (low = good, high = bad), again defined as 1 - prob_true_class, and plot them."
   ]
  },
  {
   "cell_type": "code",
   "execution_count": 48,
   "id": "f0a3eebc",
   "metadata": {},
   "outputs": [],
   "source": [
    "cscores = 1 - prob_true_class"
   ]
  },
  {
   "cell_type": "code",
   "execution_count": 49,
   "id": "64a2f924",
   "metadata": {},
   "outputs": [
    {
     "data": {
      "image/png": "[encoded data removed]",
      "text/plain": [
       "<Figure size 640x480 with 1 Axes>"
      ]
     },
     "metadata": {},
     "output_type": "display_data"
    }
   ],
   "source": [
    "plt.hist(cscores, bins = 100);"
   ]
  },
  {
   "cell_type": "markdown",
   "id": "5263afb6",
   "metadata": {},
   "source": [
    "As you can see, there are very few examples where the correct class is predicted with high probability (right side)."
   ]
  },
  {
   "cell_type": "markdown",
   "id": "ddc82917",
   "metadata": {},
   "source": [
    "We can now find the quantile of conformal scores associated with probability 90% (alpha = 0.1):"
   ]
  },
  {
   "cell_type": "code",
   "execution_count": 50,
   "id": "eba02d76",
   "metadata": {},
   "outputs": [],
   "source": [
    "qhat = np.quantile(cscores, (1-alpha)*(n+1)/n)"
   ]
  },
  {
   "cell_type": "code",
   "execution_count": 51,
   "id": "7d8eb9f0",
   "metadata": {},
   "outputs": [
    {
     "data": {
      "text/plain": [
       "0.07999999999999996"
      ]
     },
     "execution_count": 51,
     "metadata": {},
     "output_type": "execute_result"
    }
   ],
   "source": [
    "qhat "
   ]
  },
  {
   "cell_type": "code",
   "execution_count": 52,
   "id": "8ab3d471",
   "metadata": {},
   "outputs": [
    {
     "data": {
      "text/plain": [
       "0.92"
      ]
     },
     "execution_count": 52,
     "metadata": {},
     "output_type": "execute_result"
    }
   ],
   "source": [
    "1 - qhat"
   ]
  },
  {
   "cell_type": "markdown",
   "id": "5704bc92",
   "metadata": {},
   "source": [
    "This now means that only classes predicted with probability p > 0.92 will be included in prediction sets."
   ]
  },
  {
   "cell_type": "code",
   "execution_count": 53,
   "id": "ce7d4535",
   "metadata": {},
   "outputs": [
    {
     "data": {
      "text/plain": [
       "array([[0.  , 1.  , 0.  ],\n",
       "       [0.97, 0.03, 0.  ],\n",
       "       [0.  , 0.  , 1.  ],\n",
       "       [1.  , 0.  , 0.  ],\n",
       "       [0.  , 1.  , 0.  ],\n",
       "       [0.98, 0.02, 0.  ],\n",
       "       [0.  , 1.  , 0.  ],\n",
       "       [0.  , 0.  , 1.  ],\n",
       "       [0.  , 0.  , 1.  ],\n",
       "       [0.  , 0.  , 1.  ]])"
      ]
     },
     "execution_count": 53,
     "metadata": {},
     "output_type": "execute_result"
    }
   ],
   "source": [
    "#These are the probs for the first 10 objects. Any time we find p > 0.92, the class will be included in the set.\n",
    "\n",
    "model.predict_proba(X_calib)[:10] "
   ]
  },
  {
   "cell_type": "markdown",
   "id": "0f134255",
   "metadata": {},
   "source": [
    "#### Here are the prediction sets for this model:"
   ]
  },
  {
   "cell_type": "code",
   "execution_count": 54,
   "id": "b9bb0fa0",
   "metadata": {},
   "outputs": [],
   "source": [
    "prediction_sets = (model.predict_proba(X_calib) >= 1 - qhat) "
   ]
  },
  {
   "cell_type": "code",
   "execution_count": 55,
   "id": "fe072349",
   "metadata": {},
   "outputs": [
    {
     "data": {
      "text/plain": [
       "array([[0, 1, 0],\n",
       "       [1, 0, 0],\n",
       "       [0, 0, 1],\n",
       "       [1, 0, 0],\n",
       "       [0, 1, 0],\n",
       "       [1, 0, 0],\n",
       "       [0, 1, 0],\n",
       "       [0, 0, 1],\n",
       "       [0, 0, 1],\n",
       "       [0, 0, 1]])"
      ]
     },
     "execution_count": 55,
     "metadata": {},
     "output_type": "execute_result"
    }
   ],
   "source": [
    "prediction_sets[:10].astype(int) "
   ]
  },
  {
   "cell_type": "markdown",
   "id": "dc5d9a4a",
   "metadata": {},
   "source": [
    "For the first 10 objects (above), sets only have one element, hinting to average smaller set size."
   ]
  },
  {
   "cell_type": "markdown",
   "id": "7a9d5a27",
   "metadata": {},
   "source": [
    "#### Let's now check our guaranteed marginal coverage."
   ]
  },
  {
   "cell_type": "code",
   "execution_count": 56,
   "id": "98a4604f",
   "metadata": {},
   "outputs": [],
   "source": [
    "empirical_coverage = prediction_sets[np.arange(len(y_calib)), y_calib].mean()"
   ]
  },
  {
   "cell_type": "code",
   "execution_count": 57,
   "id": "403f7a2e",
   "metadata": {},
   "outputs": [
    {
     "data": {
      "text/plain": [
       "0.903"
      ]
     },
     "execution_count": 57,
     "metadata": {},
     "output_type": "execute_result"
    }
   ],
   "source": [
    "empirical_coverage "
   ]
  },
  {
   "cell_type": "markdown",
   "id": "ec45c587",
   "metadata": {},
   "source": [
    "This still holds, so that's good."
   ]
  },
  {
   "cell_type": "markdown",
   "id": "4c6ef6e9",
   "metadata": {},
   "source": [
    "Some surprises can come from looking at the average set size:"
   ]
  },
  {
   "cell_type": "code",
   "execution_count": 58,
   "id": "8af83578",
   "metadata": {},
   "outputs": [
    {
     "data": {
      "text/plain": [
       "0.910060606060606"
      ]
     },
     "execution_count": 58,
     "metadata": {},
     "output_type": "execute_result"
    }
   ],
   "source": [
    "prediction_sets.sum(axis=1).mean()"
   ]
  },
  {
   "cell_type": "markdown",
   "id": "ddb5e0ec",
   "metadata": {},
   "source": [
    "Here avg size < 1 (some prediction sets are null)! This is ok, and it just means that our threshold is so high that the probability of 0.92 is not reached by any class for some uncertain examples."
   ]
  },
  {
   "cell_type": "markdown",
   "id": "986a104e",
   "metadata": {},
   "source": [
    "Finally, we can look at the size distribution and observe the difference with the previous model."
   ]
  },
  {
   "cell_type": "code",
   "execution_count": 59,
   "id": "e2c77f30",
   "metadata": {},
   "outputs": [
    {
     "data": {
      "image/png": "[encoded data removed]",
      "text/plain": [
       "<Figure size 640x480 with 1 Axes>"
      ]
     },
     "metadata": {},
     "output_type": "display_data"
    }
   ],
   "source": [
    "# Distribution of sizes\n",
    "\n",
    "plt.hist(prediction_sets.sum(axis=1));"
   ]
  },
  {
   "cell_type": "markdown",
   "id": "7aea324e",
   "metadata": {},
   "source": [
    "### Improvements:\n",
    "\n",
    "- 3-way split (train to build model; calibration to find qhat; validation set to verify coverage and other properties).\n",
    "\n",
    "- Adaptive sets and Regularized Adaptive Sets (APS and RAPS; see the introduction in [Angelopolous and Bates 2021](https://people.eecs.berkeley.edu/~angelopoulos/publications/downloads/gentle_intro_conformal_dfuq.pdf)\n",
    "\n",
    "- Using the [MAPIE library](https://mapie.readthedocs.io/en/stable/) instead of writing code from scratch; derive diagnostics.\n",
    "\n",
    "We will demonstrate all these with the Naive Bayes model."
   ]
  },
  {
   "cell_type": "markdown",
   "id": "059e9961",
   "metadata": {},
   "source": [
    "### 3-way split"
   ]
  },
  {
   "cell_type": "markdown",
   "id": "893808c7",
   "metadata": {},
   "source": [
    "We can use the train_test_split function twice to get 3 splits, here: 2/3, 1/6, 1/6."
   ]
  },
  {
   "cell_type": "code",
   "execution_count": 60,
   "id": "5d7379f1",
   "metadata": {},
   "outputs": [],
   "source": [
    "X_train, X_test, y_train, y_test = train_test_split(X, y, test_size=0.33, random_state=10)\n",
    "\n",
    "X_calib, X_val, y_calib, y_val = train_test_split(X_test, y_test, test_size=0.5, random_state=10)\n",
    "\n",
    "n = len(y_calib)\n",
    "\n",
    "n_val = len(y_val)\n",
    "\n",
    "#Train model\n",
    "\n",
    "#model = RandomForestClassifier(random_state=10)\n",
    "\n",
    "model = GaussianNB()\n",
    "\n",
    "model.fit(X_train, y_train)\n",
    "\n",
    "#Compute probability scores\n",
    "\n",
    "pred_calib = model.predict_proba(X_calib) #predicted probabilities for cal set\n",
    "\n",
    "pred_val = model.predict_proba(X_val) #predicted probabilities for val set"
   ]
  },
  {
   "cell_type": "markdown",
   "id": "83a52ea5",
   "metadata": {},
   "source": [
    "### Naive method - no adaptation"
   ]
  },
  {
   "cell_type": "code",
   "execution_count": 61,
   "id": "197cc75f",
   "metadata": {},
   "outputs": [],
   "source": [
    "alpha = 0.1"
   ]
  },
  {
   "cell_type": "code",
   "execution_count": 62,
   "id": "ef449e65",
   "metadata": {},
   "outputs": [
    {
     "name": "stdout",
     "output_type": "stream",
     "text": [
      "Empirical marginal coverage on validation set: 0.905\n",
      "Average set size: 1.59\n"
     ]
    }
   ],
   "source": [
    "# 1: get conformal scores on calibration set\n",
    "\n",
    "cal_scores = 1 - pred_calib[np.arange(n), y_calib.values]\n",
    "\n",
    "# 2: get adjusted quantile qhat\n",
    "\n",
    "q_level = np.ceil((n+1)*(1-alpha))/n\n",
    "\n",
    "qhat = np.quantile(cal_scores, q_level, method='higher')\n",
    "\n",
    "# 3: form prediction sets on validation set; include all classes predicted with prob > 1 - qhat\n",
    "\n",
    "prediction_sets = pred_val >= (1 - qhat) \n",
    "\n",
    "empirical_coverage = prediction_sets[np.arange(len(y_val)), y_val].mean()\n",
    "\n",
    "print('Empirical marginal coverage on validation set:', np.round(empirical_coverage,3)) #should match 1 - alpha\n",
    "\n",
    "print('Average set size:', np.round(prediction_sets.sum(axis=1).mean(),2) )"
   ]
  },
  {
   "cell_type": "markdown",
   "id": "61953907",
   "metadata": {},
   "source": [
    "These are quite similar to those obtained on the calibration set - yay!"
   ]
  },
  {
   "cell_type": "markdown",
   "id": "d523e25c",
   "metadata": {},
   "source": [
    "### Adaptive sets"
   ]
  },
  {
   "cell_type": "code",
   "execution_count": 63,
   "id": "ad9c8fda",
   "metadata": {},
   "outputs": [
    {
     "name": "stdout",
     "output_type": "stream",
     "text": [
      "Empirical coverage on validation set 0.9297575757575758\n",
      "Average set size 2.2324848484848485\n"
     ]
    },
    {
     "data": {
      "image/png": "[encoded data removed]",
      "text/plain": [
       "<Figure size 640x480 with 1 Axes>"
      ]
     },
     "metadata": {},
     "output_type": "display_data"
    }
   ],
   "source": [
    "#Code adapted from Angelopolous and Bates; main idea here is to consider the scores cumulatively.\n",
    "\n",
    "#Calibration set is used to find correct quantile qhat\n",
    "\n",
    "cal_pi = pred_calib.argsort(1)[:, ::-1]\n",
    "cal_srt = np.take_along_axis(pred_calib, cal_pi, axis=1).cumsum(axis=1)\n",
    "cal_scores = np.take_along_axis(cal_srt, cal_pi.argsort(axis=1), axis=1)[range(n), y_calib]\n",
    "\n",
    "plt.hist(cal_scores, bins = 100);\n",
    "\n",
    "# Get the score quantile\n",
    "\n",
    "qhat = np.quantile(cal_scores, np.ceil((n + 1) * (1 - alpha)) / n, method=\"higher\")\n",
    "\n",
    "# Deploy on validation set\n",
    "\n",
    "val_pi = pred_val.argsort(1)[:, ::-1]\n",
    "\n",
    "val_srt = np.take_along_axis(pred_val, val_pi, axis=1).cumsum(axis=1)\n",
    "\n",
    "adap_prediction_sets = np.take_along_axis(val_srt <= qhat, val_pi.argsort(axis=1), axis=1)\n",
    "\n",
    "empirical_coverage = adap_prediction_sets[np.arange(len(y_val)), y_val].mean()\n",
    "\n",
    "print('Empirical coverage on validation set', empirical_coverage)\n",
    "\n",
    "print('Average set size', adap_prediction_sets.sum(axis=1).mean())"
   ]
  },
  {
   "cell_type": "markdown",
   "id": "d1fa3371",
   "metadata": {},
   "source": [
    "### RAPS (Regularized APS)"
   ]
  },
  {
   "cell_type": "markdown",
   "id": "5377bc3f",
   "metadata": {},
   "source": [
    "This doesn't work as well in the sense that the marginal coverage is off, and it doesn't match MAPIE, but I couldn't figure why, despite exploring the parameters as explained in the paper."
   ]
  },
  {
   "cell_type": "code",
   "execution_count": 64,
   "id": "ff900e64",
   "metadata": {},
   "outputs": [
    {
     "name": "stdout",
     "output_type": "stream",
     "text": [
      "Empirical coverage on validation set 0.65\n",
      "Average set size 1.58\n"
     ]
    },
    {
     "data": {
      "image/png": "[encoded data removed]",
      "text/plain": [
       "<Figure size 640x480 with 1 Axes>"
      ]
     },
     "metadata": {},
     "output_type": "display_data"
    }
   ],
   "source": [
    "# Set RAPS regularization parameters (larger lam_reg and smaller k_reg leads to smaller sets)\n",
    "\n",
    "lam_reg = 0.001 #from paper: lambda_ in [.001, .01, .1, .2, .5]\n",
    "\n",
    "k_reg = 1 #This needs to be <= the total number of classes; \n",
    "        # it's the maximum size of set allowed for large lambda before incurring in a large penalty\n",
    "\n",
    "disallow_zero_sets = False # Set this to False in order to see the coverage upper bound hold\n",
    "\n",
    "rand = True # Set this to True in order to see the coverage upper bound hold\n",
    "\n",
    "reg_vec = np.array(k_reg*[0,] + (pred_calib.shape[1]-k_reg)*[lam_reg,])[None,:]\n",
    "\n",
    "# Get conformal scores on calibration set\n",
    "\n",
    "cal_pi = pred_calib.argsort(1)[:,::-1]; \n",
    "\n",
    "cal_srt = np.take_along_axis(pred_calib,cal_pi,axis=1)\n",
    "\n",
    "cal_srt_reg = cal_srt + reg_vec\n",
    "\n",
    "cal_L = np.where(cal_pi == y_calib.values[:,None])[1]\n",
    "\n",
    "cal_scores = cal_srt_reg.cumsum(axis=1)[np.arange(n),cal_L] - np.random.rand(n)*cal_srt_reg[np.arange(n),cal_L]\n",
    "\n",
    "plt.hist(cal_scores, bins = 100);\n",
    "\n",
    "# Get the score quantile\n",
    "\n",
    "qhat = np.quantile(cal_scores, np.ceil((n+1)*(1-alpha))/n, method = 'lower')\n",
    "\n",
    "# Deploy\n",
    "\n",
    "val_srt_reg_cumsum = cal_srt_reg.cumsum(axis=1)\n",
    "\n",
    "indicators = (cal_srt_reg.cumsum(axis=1) - np.random.rand(n,1)*cal_srt_reg) <= qhat if rand else cal_srt_reg.cumsum(axis=1) - cal_srt_reg <= qhat\n",
    "\n",
    "if disallow_zero_sets: indicators[:,0] = True\n",
    "\n",
    "raps_prediction_sets = np.take_along_axis(indicators,cal_pi.argsort(axis=1),axis=1)\n",
    "\n",
    "empirical_coverage = raps_prediction_sets[np.arange(len(y_val)), y_val].mean()\n",
    "\n",
    "print('Empirical coverage on validation set', np.round(empirical_coverage,2)) #This doesn't seem a great match\n",
    "\n",
    "print('Average set size', np.round(raps_prediction_sets.sum(axis=1).mean(),2) )"
   ]
  },
  {
   "cell_type": "markdown",
   "id": "368a8ecf",
   "metadata": {},
   "source": [
    "Lingering question: Why is convergence so off with RAPS?"
   ]
  },
  {
   "cell_type": "markdown",
   "id": "f7383044",
   "metadata": {},
   "source": [
    "### MAPIE"
   ]
  },
  {
   "cell_type": "markdown",
   "id": "716c142f",
   "metadata": {},
   "source": [
    "Using MAPIE, we can implement the original (lac = Least Ambiguous set-valued Classifier) method, APS, and RAPS.\n",
    "\n",
    "Results are in agreement with the typed code for lac and aps, seem off for RAPS; it might be a hyperparameter issue."
   ]
  },
  {
   "cell_type": "code",
   "execution_count": 65,
   "id": "b475f9d4",
   "metadata": {},
   "outputs": [
    {
     "name": "stdout",
     "output_type": "stream",
     "text": [
      "Desired coverage: 0.9\n",
      "For method: lac\n",
      "Empirical coverage:  0.905\n",
      "Average set size 1.588\n",
      "For method: aps\n",
      "Empirical coverage:  0.952\n",
      "Average set size 1.678\n",
      "For method: raps\n",
      "Empirical coverage:  0.952\n",
      "Average set size 1.679\n"
     ]
    }
   ],
   "source": [
    "#Start by defining model\n",
    "\n",
    "model = modelNB\n",
    "\n",
    "alpha = 0.1\n",
    "\n",
    "print('Desired coverage:', 1-alpha)\n",
    "\n",
    "methods = [\"lac\", \"aps\", \"raps\"]\n",
    "\n",
    "for method in methods:\n",
    "\n",
    "    mapie_score = MapieClassifier(estimator=model, cv=\"prefit\", method=method) # usage note: \"score\" and \"lac\" appear to be the same\n",
    "\n",
    "    mapie_score.fit(X_calib, y_calib)\n",
    "\n",
    "    #y_pred_score is the class predicted by the original model; y_ps_score is the prediction from MAPIE\n",
    "\n",
    "    y_pred_score, y_ps_score = mapie_score.predict(X_val, alpha=alpha)\n",
    "    \n",
    "    print('For method:', method)\n",
    "    print('Empirical coverage: ', np.round(y_ps_score.reshape(len(y_val),3)[np.arange(len(y_val)), y_val].mean(),3))\n",
    "    print('Average set size', np.round(y_ps_score.reshape(len(y_val),3).sum(axis=1).mean(),3) )"
   ]
  },
  {
   "cell_type": "markdown",
   "id": "75845cdc",
   "metadata": {},
   "source": [
    "As a diagnostic tool, we can also plot:\n",
    "\n",
    "1) The quantile corresponding to a certain coverage (left, not very useful on its own);\n",
    "2) The accuracy of effective coverage (wrt target) as f(alpha); this should be the x=y line, ideally;\n",
    "3) The set sizes; for same marginal coverage, we generally prefer smaller sets.\n",
    "\n",
    "Adapted from:\n",
    "\n",
    "https://mapie.readthedocs.io/en/stable/examples_classification/1-quickstart/plot_comp_methods_on_2d_dataset.html#sphx-glr-examples-classification-1-quickstart-plot-comp-methods-on-2d-dataset-py"
   ]
  },
  {
   "cell_type": "code",
   "execution_count": 66,
   "id": "87ce6c8c",
   "metadata": {},
   "outputs": [
    {
     "data": {
      "image/png": "[encoded data removed]",
      "text/plain": [
       "<Figure size 1500x500 with 3 Axes>"
      ]
     },
     "metadata": {},
     "output_type": "display_data"
    }
   ],
   "source": [
    "methods = [\"lac\", \"aps\", \"raps\"]\n",
    "alpha_ = np.arange(0.02, 0.98, 0.02)\n",
    "coverage, mean_width = {}, {}\n",
    "mapie, y_ps_mapie = {}, {}\n",
    "for method in methods:\n",
    "    mapie[method] = MapieClassifier(\n",
    "        estimator=modelNB,\n",
    "        method=method,\n",
    "        cv=\"prefit\",\n",
    "        random_state=42,\n",
    "    )\n",
    "    mapie[method].fit(X_calib, y_calib.values)\n",
    "    _, y_ps_mapie[method] = mapie[method].predict(\n",
    "        X, alpha=alpha_, include_last_label=\"randomized\"\n",
    "    )\n",
    "    coverage[method] = [\n",
    "        classification_coverage_score(y, y_ps_mapie[method][:, :, i])\n",
    "        for i, _ in enumerate(alpha_)\n",
    "    ]\n",
    "    mean_width[method] = [\n",
    "        classification_mean_width_score(y_ps_mapie[method][:, :, i])\n",
    "        for i, _ in enumerate(alpha_)\n",
    "    ]\n",
    "\n",
    "fig, axs = plt.subplots(1, 3, figsize=(15, 5))\n",
    "axs[0].set_xlabel(\"1 - alpha\")\n",
    "axs[0].set_ylabel(\"Quantile\")\n",
    "for method in methods:\n",
    "    axs[0].scatter(1 - alpha_, mapie[method].quantiles_, label=method)\n",
    "axs[0].legend()\n",
    "for method in methods:\n",
    "    axs[1].scatter(1 - alpha_, coverage[method], label=method)\n",
    "axs[1].set_xlabel(\"1 - alpha\")\n",
    "axs[1].set_ylabel(\"Coverage score\")\n",
    "axs[1].plot([0, 1], [0, 1], label=\"x=y\", color=\"black\")\n",
    "axs[1].legend()\n",
    "for method in methods:\n",
    "    axs[2].scatter(1 - alpha_, mean_width[method], label=method)\n",
    "axs[2].set_xlabel(\"1 - alpha\")\n",
    "axs[2].set_ylabel(\"Average size of prediction sets\")\n",
    "axs[2].legend()\n",
    "plt.show()\n",
    "\n",
    "\n"
   ]
  },
  {
   "cell_type": "markdown",
   "id": "21196a55",
   "metadata": {},
   "source": [
    "### What happens for Random Forest model?\n",
    "\n",
    "This shows the inconsistencies found for the RF model. Still can't explain them."
   ]
  },
  {
   "cell_type": "markdown",
   "id": "50bb4c23",
   "metadata": {},
   "source": [
    "Empirically, I saw that there are problems (e.g. marginal coverage doesn't hold well) for the \"good\" RF model for adaptive sets (the simplest method still works). I am not sure of what the reason is; it may have to do with having only 3 classes, so variability in sets is limited."
   ]
  },
  {
   "cell_type": "code",
   "execution_count": 67,
   "id": "279acf49",
   "metadata": {},
   "outputs": [],
   "source": [
    "model = RandomForestClassifier(random_state=10)"
   ]
  },
  {
   "cell_type": "code",
   "execution_count": 68,
   "id": "3c61467d",
   "metadata": {},
   "outputs": [
    {
     "data": {
      "text/html": [
       "<style>#sk-container-id-3 {color: black;}#sk-container-id-3 pre{padding: 0;}#sk-container-id-3 div.sk-toggleable {background-color: white;}#sk-container-id-3 label.sk-toggleable__label {cursor: pointer;display: block;width: 100%;margin-bottom: 0;padding: 0.3em;box-sizing: border-box;text-align: center;}#sk-container-id-3 label.sk-toggleable__label-arrow:before {content: \"▸\";float: left;margin-right: 0.25em;color: #696969;}#sk-container-id-3 label.sk-toggleable__label-arrow:hover:before {color: black;}#sk-container-id-3 div.sk-estimator:hover label.sk-toggleable__label-arrow:before {color: black;}#sk-container-id-3 div.sk-toggleable__content {max-height: 0;max-width: 0;overflow: hidden;text-align: left;background-color: #f0f8ff;}#sk-container-id-3 div.sk-toggleable__content pre {margin: 0.2em;color: black;border-radius: 0.25em;background-color: #f0f8ff;}#sk-container-id-3 input.sk-toggleable__control:checked~div.sk-toggleable__content {max-height: 200px;max-width: 100%;overflow: auto;}#sk-container-id-3 input.sk-toggleable__control:checked~label.sk-toggleable__label-arrow:before {content: \"▾\";}#sk-container-id-3 div.sk-estimator input.sk-toggleable__control:checked~label.sk-toggleable__label {background-color: #d4ebff;}#sk-container-id-3 div.sk-label input.sk-toggleable__control:checked~label.sk-toggleable__label {background-color: #d4ebff;}#sk-container-id-3 input.sk-hidden--visually {border: 0;clip: rect(1px 1px 1px 1px);clip: rect(1px, 1px, 1px, 1px);height: 1px;margin: -1px;overflow: hidden;padding: 0;position: absolute;width: 1px;}#sk-container-id-3 div.sk-estimator {font-family: monospace;background-color: #f0f8ff;border: 1px dotted black;border-radius: 0.25em;box-sizing: border-box;margin-bottom: 0.5em;}#sk-container-id-3 div.sk-estimator:hover {background-color: #d4ebff;}#sk-container-id-3 div.sk-parallel-item::after {content: \"\";width: 100%;border-bottom: 1px solid gray;flex-grow: 1;}#sk-container-id-3 div.sk-label:hover label.sk-toggleable__label {background-color: #d4ebff;}#sk-container-id-3 div.sk-serial::before {content: \"\";position: absolute;border-left: 1px solid gray;box-sizing: border-box;top: 0;bottom: 0;left: 50%;z-index: 0;}#sk-container-id-3 div.sk-serial {display: flex;flex-direction: column;align-items: center;background-color: white;padding-right: 0.2em;padding-left: 0.2em;position: relative;}#sk-container-id-3 div.sk-item {position: relative;z-index: 1;}#sk-container-id-3 div.sk-parallel {display: flex;align-items: stretch;justify-content: center;background-color: white;position: relative;}#sk-container-id-3 div.sk-item::before, #sk-container-id-3 div.sk-parallel-item::before {content: \"\";position: absolute;border-left: 1px solid gray;box-sizing: border-box;top: 0;bottom: 0;left: 50%;z-index: -1;}#sk-container-id-3 div.sk-parallel-item {display: flex;flex-direction: column;z-index: 1;position: relative;background-color: white;}#sk-container-id-3 div.sk-parallel-item:first-child::after {align-self: flex-end;width: 50%;}#sk-container-id-3 div.sk-parallel-item:last-child::after {align-self: flex-start;width: 50%;}#sk-container-id-3 div.sk-parallel-item:only-child::after {width: 0;}#sk-container-id-3 div.sk-dashed-wrapped {border: 1px dashed gray;margin: 0 0.4em 0.5em 0.4em;box-sizing: border-box;padding-bottom: 0.4em;background-color: white;}#sk-container-id-3 div.sk-label label {font-family: monospace;font-weight: bold;display: inline-block;line-height: 1.2em;}#sk-container-id-3 div.sk-label-container {text-align: center;}#sk-container-id-3 div.sk-container {/* jupyter's `normalize.less` sets `[hidden] { display: none; }` but bootstrap.min.css set `[hidden] { display: none !important; }` so we also need the `!important` here to be able to override the default hidden behavior on the sphinx rendered scikit-learn.org. See: https://github.com/scikit-learn/scikit-learn/issues/21755 */display: inline-block !important;position: relative;}#sk-container-id-3 div.sk-text-repr-fallback {display: none;}</style><div id=\"sk-container-id-3\" class=\"sk-top-container\"><div class=\"sk-text-repr-fallback\"><pre>RandomForestClassifier(random_state=10)</pre><b>In a Jupyter environment, please rerun this cell to show the HTML representation or trust the notebook. <br />On GitHub, the HTML representation is unable to render, please try loading this page with nbviewer.org.</b></div><div class=\"sk-container\" hidden><div class=\"sk-item\"><div class=\"sk-estimator sk-toggleable\"><input class=\"sk-toggleable__control sk-hidden--visually\" id=\"sk-estimator-id-3\" type=\"checkbox\" checked><label for=\"sk-estimator-id-3\" class=\"sk-toggleable__label sk-toggleable__label-arrow\">RandomForestClassifier</label><div class=\"sk-toggleable__content\"><pre>RandomForestClassifier(random_state=10)</pre></div></div></div></div></div>"
      ],
      "text/plain": [
       "RandomForestClassifier(random_state=10)"
      ]
     },
     "execution_count": 68,
     "metadata": {},
     "output_type": "execute_result"
    }
   ],
   "source": [
    "model.fit(X_train, y_train)"
   ]
  },
  {
   "cell_type": "code",
   "execution_count": 69,
   "id": "925809f6",
   "metadata": {},
   "outputs": [
    {
     "data": {
      "image/png": "[encoded data removed]",
      "text/plain": [
       "<Figure size 1500x500 with 3 Axes>"
      ]
     },
     "metadata": {},
     "output_type": "display_data"
    }
   ],
   "source": [
    "methods = [\"lac\", \"aps\", \"raps\"]\n",
    "alpha_ = np.arange(0.02, 0.98, 0.02)\n",
    "coverage, mean_width = {}, {}\n",
    "mapie, y_ps_mapie = {}, {}\n",
    "for method in methods:\n",
    "    mapie[method] = MapieClassifier(\n",
    "        estimator=model,\n",
    "        method=method,\n",
    "        cv=\"prefit\",\n",
    "        random_state=42,\n",
    "    )\n",
    "    mapie[method].fit(X_calib, y_calib.values)\n",
    "    _, y_ps_mapie[method] = mapie[method].predict(\n",
    "        X, alpha=alpha_, include_last_label=\"randomized\"\n",
    "    )\n",
    "    coverage[method] = [\n",
    "        classification_coverage_score(y, y_ps_mapie[method][:, :, i])\n",
    "        for i, _ in enumerate(alpha_)\n",
    "    ]\n",
    "    mean_width[method] = [\n",
    "        classification_mean_width_score(y_ps_mapie[method][:, :, i])\n",
    "        for i, _ in enumerate(alpha_)\n",
    "    ]\n",
    "\n",
    "fig, axs = plt.subplots(1, 3, figsize=(15, 5))\n",
    "axs[0].set_xlabel(\"1 - alpha\")\n",
    "axs[0].set_ylabel(\"Quantile\")\n",
    "for method in methods:\n",
    "    axs[0].scatter(1 - alpha_, mapie[method].quantiles_, label=method)\n",
    "axs[0].legend()\n",
    "for method in methods:\n",
    "    axs[1].scatter(1 - alpha_, coverage[method], label=method)\n",
    "axs[1].set_xlabel(\"1 - alpha\")\n",
    "axs[1].set_ylabel(\"Coverage score\")\n",
    "axs[1].plot([0, 1], [0, 1], label=\"x=y\", color=\"black\")\n",
    "axs[1].legend()\n",
    "for method in methods:\n",
    "    axs[2].scatter(1 - alpha_, mean_width[method], label=method)\n",
    "axs[2].set_xlabel(\"1 - alpha\")\n",
    "axs[2].set_ylabel(\"Average size of prediction sets\")\n",
    "axs[2].legend()\n",
    "plt.show()\n"
   ]
  }
 ],
 "metadata": {
  "kernelspec": {
   "display_name": "Python 3 (ipykernel)",
   "language": "python",
   "name": "python3"
  },
  "language_info": {
   "codemirror_mode": {
    "name": "ipython",
    "version": 3
   },
   "file_extension": ".py",
   "mimetype": "text/x-python",
   "name": "python",
   "nbconvert_exporter": "python",
   "pygments_lexer": "ipython3",
   "version": "3.11.6"
  }
 },
 "nbformat": 4,
 "nbformat_minor": 5
}
