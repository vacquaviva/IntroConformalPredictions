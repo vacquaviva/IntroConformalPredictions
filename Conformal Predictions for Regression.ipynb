{
 "cells": [
  {
   "cell_type": "code",
   "execution_count": 1,
   "id": "d654cff0",
   "metadata": {
    "slideshow": {
     "slide_type": "slide"
    }
   },
   "outputs": [],
   "source": [
    "import numpy as np\n",
    "import pandas as pd\n",
    "import matplotlib.pyplot as plt\n",
    "from sklearn.ensemble import RandomForestRegressor, GradientBoostingRegressor\n",
    "from sklearn.model_selection import train_test_split, cross_validate, cross_val_predict\n",
    "from sklearn.model_selection import KFold\n",
    "\n",
    "from mapie.regression import MapieQuantileRegressor\n",
    "from mapie.metrics import regression_coverage_score"
   ]
  },
  {
   "cell_type": "markdown",
   "id": "89717b81",
   "metadata": {},
   "source": [
    "Data are some simple synthetic galaxy spectra generated a few years ago for this paper, using BAGPIPES. There are spectra with 850 wavelengths, and we want to reconstruct some physical properties: age, star formation history timescale, dust content in a simple screen model, and stellar mass. We'll use age here as it's one of the trickiest properties to predict."
   ]
  },
  {
   "cell_type": "code",
   "execution_count": 2,
   "id": "23f7937d",
   "metadata": {},
   "outputs": [],
   "source": [
    "features = pd.read_csv('spectra.csv', header=None, sep = ' ')"
   ]
  },
  {
   "cell_type": "code",
   "execution_count": 3,
   "id": "1d02605c",
   "metadata": {},
   "outputs": [
    {
     "data": {
      "text/html": [
       "<div>\n",
       "<style scoped>\n",
       "    .dataframe tbody tr th:only-of-type {\n",
       "        vertical-align: middle;\n",
       "    }\n",
       "\n",
       "    .dataframe tbody tr th {\n",
       "        vertical-align: top;\n",
       "    }\n",
       "\n",
       "    .dataframe thead th {\n",
       "        text-align: right;\n",
       "    }\n",
       "</style>\n",
       "<table border=\"1\" class=\"dataframe\">\n",
       "  <thead>\n",
       "    <tr style=\"text-align: right;\">\n",
       "      <th></th>\n",
       "      <th>0</th>\n",
       "      <th>1</th>\n",
       "      <th>2</th>\n",
       "      <th>3</th>\n",
       "      <th>4</th>\n",
       "      <th>5</th>\n",
       "      <th>6</th>\n",
       "      <th>7</th>\n",
       "      <th>8</th>\n",
       "      <th>9</th>\n",
       "      <th>...</th>\n",
       "      <th>840</th>\n",
       "      <th>841</th>\n",
       "      <th>842</th>\n",
       "      <th>843</th>\n",
       "      <th>844</th>\n",
       "      <th>845</th>\n",
       "      <th>846</th>\n",
       "      <th>847</th>\n",
       "      <th>848</th>\n",
       "      <th>849</th>\n",
       "    </tr>\n",
       "  </thead>\n",
       "  <tbody>\n",
       "    <tr>\n",
       "      <th>0</th>\n",
       "      <td>0.010532</td>\n",
       "      <td>0.011854</td>\n",
       "      <td>0.011477</td>\n",
       "      <td>0.011186</td>\n",
       "      <td>0.010723</td>\n",
       "      <td>0.007781</td>\n",
       "      <td>0.003281</td>\n",
       "      <td>0.007836</td>\n",
       "      <td>0.008751</td>\n",
       "      <td>0.012667</td>\n",
       "      <td>...</td>\n",
       "      <td>0.024035</td>\n",
       "      <td>0.023810</td>\n",
       "      <td>0.024046</td>\n",
       "      <td>0.023865</td>\n",
       "      <td>0.023751</td>\n",
       "      <td>0.023780</td>\n",
       "      <td>0.023700</td>\n",
       "      <td>0.023532</td>\n",
       "      <td>0.023523</td>\n",
       "      <td>0.023560</td>\n",
       "    </tr>\n",
       "    <tr>\n",
       "      <th>1</th>\n",
       "      <td>0.012205</td>\n",
       "      <td>0.013479</td>\n",
       "      <td>0.013350</td>\n",
       "      <td>0.013067</td>\n",
       "      <td>0.013404</td>\n",
       "      <td>0.011026</td>\n",
       "      <td>0.005107</td>\n",
       "      <td>0.011005</td>\n",
       "      <td>0.012001</td>\n",
       "      <td>0.014975</td>\n",
       "      <td>...</td>\n",
       "      <td>0.045495</td>\n",
       "      <td>0.044942</td>\n",
       "      <td>0.045321</td>\n",
       "      <td>0.044943</td>\n",
       "      <td>0.044721</td>\n",
       "      <td>0.044843</td>\n",
       "      <td>0.044598</td>\n",
       "      <td>0.043910</td>\n",
       "      <td>0.043594</td>\n",
       "      <td>0.043794</td>\n",
       "    </tr>\n",
       "    <tr>\n",
       "      <th>2</th>\n",
       "      <td>0.003660</td>\n",
       "      <td>0.004010</td>\n",
       "      <td>0.004001</td>\n",
       "      <td>0.003920</td>\n",
       "      <td>0.004109</td>\n",
       "      <td>0.003515</td>\n",
       "      <td>0.001691</td>\n",
       "      <td>0.003498</td>\n",
       "      <td>0.003792</td>\n",
       "      <td>0.004505</td>\n",
       "      <td>...</td>\n",
       "      <td>0.016169</td>\n",
       "      <td>0.015951</td>\n",
       "      <td>0.016057</td>\n",
       "      <td>0.015907</td>\n",
       "      <td>0.015811</td>\n",
       "      <td>0.015818</td>\n",
       "      <td>0.015722</td>\n",
       "      <td>0.015475</td>\n",
       "      <td>0.015348</td>\n",
       "      <td>0.015374</td>\n",
       "    </tr>\n",
       "    <tr>\n",
       "      <th>3</th>\n",
       "      <td>0.065447</td>\n",
       "      <td>0.071665</td>\n",
       "      <td>0.071253</td>\n",
       "      <td>0.069657</td>\n",
       "      <td>0.072569</td>\n",
       "      <td>0.061464</td>\n",
       "      <td>0.029246</td>\n",
       "      <td>0.060936</td>\n",
       "      <td>0.065971</td>\n",
       "      <td>0.078945</td>\n",
       "      <td>...</td>\n",
       "      <td>0.052733</td>\n",
       "      <td>0.051933</td>\n",
       "      <td>0.052260</td>\n",
       "      <td>0.051681</td>\n",
       "      <td>0.051270</td>\n",
       "      <td>0.051238</td>\n",
       "      <td>0.050767</td>\n",
       "      <td>0.049791</td>\n",
       "      <td>0.049233</td>\n",
       "      <td>0.049177</td>\n",
       "    </tr>\n",
       "    <tr>\n",
       "      <th>4</th>\n",
       "      <td>0.143073</td>\n",
       "      <td>0.156413</td>\n",
       "      <td>0.155725</td>\n",
       "      <td>0.152241</td>\n",
       "      <td>0.159254</td>\n",
       "      <td>0.135972</td>\n",
       "      <td>0.065265</td>\n",
       "      <td>0.134719</td>\n",
       "      <td>0.145695</td>\n",
       "      <td>0.172647</td>\n",
       "      <td>...</td>\n",
       "      <td>0.071784</td>\n",
       "      <td>0.070843</td>\n",
       "      <td>0.071313</td>\n",
       "      <td>0.070579</td>\n",
       "      <td>0.070022</td>\n",
       "      <td>0.069911</td>\n",
       "      <td>0.069362</td>\n",
       "      <td>0.068354</td>\n",
       "      <td>0.067859</td>\n",
       "      <td>0.067661</td>\n",
       "    </tr>\n",
       "  </tbody>\n",
       "</table>\n",
       "<p>5 rows × 850 columns</p>\n",
       "</div>"
      ],
      "text/plain": [
       "        0         1         2         3         4         5         6    \\\n",
       "0  0.010532  0.011854  0.011477  0.011186  0.010723  0.007781  0.003281   \n",
       "1  0.012205  0.013479  0.013350  0.013067  0.013404  0.011026  0.005107   \n",
       "2  0.003660  0.004010  0.004001  0.003920  0.004109  0.003515  0.001691   \n",
       "3  0.065447  0.071665  0.071253  0.069657  0.072569  0.061464  0.029246   \n",
       "4  0.143073  0.156413  0.155725  0.152241  0.159254  0.135972  0.065265   \n",
       "\n",
       "        7         8         9    ...       840       841       842       843  \\\n",
       "0  0.007836  0.008751  0.012667  ...  0.024035  0.023810  0.024046  0.023865   \n",
       "1  0.011005  0.012001  0.014975  ...  0.045495  0.044942  0.045321  0.044943   \n",
       "2  0.003498  0.003792  0.004505  ...  0.016169  0.015951  0.016057  0.015907   \n",
       "3  0.060936  0.065971  0.078945  ...  0.052733  0.051933  0.052260  0.051681   \n",
       "4  0.134719  0.145695  0.172647  ...  0.071784  0.070843  0.071313  0.070579   \n",
       "\n",
       "        844       845       846       847       848       849  \n",
       "0  0.023751  0.023780  0.023700  0.023532  0.023523  0.023560  \n",
       "1  0.044721  0.044843  0.044598  0.043910  0.043594  0.043794  \n",
       "2  0.015811  0.015818  0.015722  0.015475  0.015348  0.015374  \n",
       "3  0.051270  0.051238  0.050767  0.049791  0.049233  0.049177  \n",
       "4  0.070022  0.069911  0.069362  0.068354  0.067859  0.067661  \n",
       "\n",
       "[5 rows x 850 columns]"
      ]
     },
     "execution_count": 3,
     "metadata": {},
     "output_type": "execute_result"
    }
   ],
   "source": [
    "features.head()"
   ]
  },
  {
   "cell_type": "code",
   "execution_count": 4,
   "id": "ff8f135c",
   "metadata": {},
   "outputs": [],
   "source": [
    "target = pd.read_csv('GalaxyProperties.csv')"
   ]
  },
  {
   "cell_type": "code",
   "execution_count": 5,
   "id": "1e30bbc8",
   "metadata": {},
   "outputs": [
    {
     "data": {
      "text/html": [
       "<div>\n",
       "<style scoped>\n",
       "    .dataframe tbody tr th:only-of-type {\n",
       "        vertical-align: middle;\n",
       "    }\n",
       "\n",
       "    .dataframe tbody tr th {\n",
       "        vertical-align: top;\n",
       "    }\n",
       "\n",
       "    .dataframe thead th {\n",
       "        text-align: right;\n",
       "    }\n",
       "</style>\n",
       "<table border=\"1\" class=\"dataframe\">\n",
       "  <thead>\n",
       "    <tr style=\"text-align: right;\">\n",
       "      <th></th>\n",
       "      <th>Unnamed: 0</th>\n",
       "      <th>Dust attenuation value</th>\n",
       "      <th>Age (Gyr)</th>\n",
       "      <th>Log10(Mass/Mass_Sun)</th>\n",
       "      <th>Tau (Gyr)</th>\n",
       "    </tr>\n",
       "  </thead>\n",
       "  <tbody>\n",
       "    <tr>\n",
       "      <th>0</th>\n",
       "      <td>0</td>\n",
       "      <td>0.164869</td>\n",
       "      <td>0.203291</td>\n",
       "      <td>7.885367</td>\n",
       "      <td>0.033035</td>\n",
       "    </tr>\n",
       "    <tr>\n",
       "      <th>1</th>\n",
       "      <td>1</td>\n",
       "      <td>0.200852</td>\n",
       "      <td>0.470248</td>\n",
       "      <td>8.297678</td>\n",
       "      <td>0.087146</td>\n",
       "    </tr>\n",
       "    <tr>\n",
       "      <th>2</th>\n",
       "      <td>2</td>\n",
       "      <td>0.197863</td>\n",
       "      <td>4.033993</td>\n",
       "      <td>8.184615</td>\n",
       "      <td>1.273974</td>\n",
       "    </tr>\n",
       "    <tr>\n",
       "      <th>3</th>\n",
       "      <td>3</td>\n",
       "      <td>0.001000</td>\n",
       "      <td>0.721636</td>\n",
       "      <td>8.360110</td>\n",
       "      <td>0.242588</td>\n",
       "    </tr>\n",
       "    <tr>\n",
       "      <th>4</th>\n",
       "      <td>4</td>\n",
       "      <td>0.001000</td>\n",
       "      <td>0.699464</td>\n",
       "      <td>8.373327</td>\n",
       "      <td>0.510683</td>\n",
       "    </tr>\n",
       "  </tbody>\n",
       "</table>\n",
       "</div>"
      ],
      "text/plain": [
       "   Unnamed: 0  Dust attenuation value  Age (Gyr)  Log10(Mass/Mass_Sun)  \\\n",
       "0           0                0.164869   0.203291              7.885367   \n",
       "1           1                0.200852   0.470248              8.297678   \n",
       "2           2                0.197863   4.033993              8.184615   \n",
       "3           3                0.001000   0.721636              8.360110   \n",
       "4           4                0.001000   0.699464              8.373327   \n",
       "\n",
       "   Tau (Gyr)  \n",
       "0   0.033035  \n",
       "1   0.087146  \n",
       "2   1.273974  \n",
       "3   0.242588  \n",
       "4   0.510683  "
      ]
     },
     "execution_count": 5,
     "metadata": {},
     "output_type": "execute_result"
    }
   ],
   "source": [
    "target.head()"
   ]
  },
  {
   "cell_type": "code",
   "execution_count": 6,
   "id": "afa84ac3",
   "metadata": {},
   "outputs": [
    {
     "data": {
      "text/plain": [
       "(1000, 850)"
      ]
     },
     "execution_count": 6,
     "metadata": {},
     "output_type": "execute_result"
    }
   ],
   "source": [
    "features.shape"
   ]
  },
  {
   "cell_type": "code",
   "execution_count": 7,
   "id": "499a47da",
   "metadata": {},
   "outputs": [],
   "source": [
    "#Our goal will be to predict log(age), which empirically works better than Age\n",
    "\n",
    "log_age = np.log(target['Age (Gyr)'].values) "
   ]
  },
  {
   "cell_type": "markdown",
   "id": "c733b08f",
   "metadata": {},
   "source": [
    "We split data into into train, calibration and validation sets (using train_test_split function twice), and run a regression model that outputs point predictions:"
   ]
  },
  {
   "cell_type": "code",
   "execution_count": 8,
   "id": "43e65b4c",
   "metadata": {},
   "outputs": [
    {
     "data": {
      "text/html": [
       "<style>#sk-container-id-1 {color: black;}#sk-container-id-1 pre{padding: 0;}#sk-container-id-1 div.sk-toggleable {background-color: white;}#sk-container-id-1 label.sk-toggleable__label {cursor: pointer;display: block;width: 100%;margin-bottom: 0;padding: 0.3em;box-sizing: border-box;text-align: center;}#sk-container-id-1 label.sk-toggleable__label-arrow:before {content: \"▸\";float: left;margin-right: 0.25em;color: #696969;}#sk-container-id-1 label.sk-toggleable__label-arrow:hover:before {color: black;}#sk-container-id-1 div.sk-estimator:hover label.sk-toggleable__label-arrow:before {color: black;}#sk-container-id-1 div.sk-toggleable__content {max-height: 0;max-width: 0;overflow: hidden;text-align: left;background-color: #f0f8ff;}#sk-container-id-1 div.sk-toggleable__content pre {margin: 0.2em;color: black;border-radius: 0.25em;background-color: #f0f8ff;}#sk-container-id-1 input.sk-toggleable__control:checked~div.sk-toggleable__content {max-height: 200px;max-width: 100%;overflow: auto;}#sk-container-id-1 input.sk-toggleable__control:checked~label.sk-toggleable__label-arrow:before {content: \"▾\";}#sk-container-id-1 div.sk-estimator input.sk-toggleable__control:checked~label.sk-toggleable__label {background-color: #d4ebff;}#sk-container-id-1 div.sk-label input.sk-toggleable__control:checked~label.sk-toggleable__label {background-color: #d4ebff;}#sk-container-id-1 input.sk-hidden--visually {border: 0;clip: rect(1px 1px 1px 1px);clip: rect(1px, 1px, 1px, 1px);height: 1px;margin: -1px;overflow: hidden;padding: 0;position: absolute;width: 1px;}#sk-container-id-1 div.sk-estimator {font-family: monospace;background-color: #f0f8ff;border: 1px dotted black;border-radius: 0.25em;box-sizing: border-box;margin-bottom: 0.5em;}#sk-container-id-1 div.sk-estimator:hover {background-color: #d4ebff;}#sk-container-id-1 div.sk-parallel-item::after {content: \"\";width: 100%;border-bottom: 1px solid gray;flex-grow: 1;}#sk-container-id-1 div.sk-label:hover label.sk-toggleable__label {background-color: #d4ebff;}#sk-container-id-1 div.sk-serial::before {content: \"\";position: absolute;border-left: 1px solid gray;box-sizing: border-box;top: 0;bottom: 0;left: 50%;z-index: 0;}#sk-container-id-1 div.sk-serial {display: flex;flex-direction: column;align-items: center;background-color: white;padding-right: 0.2em;padding-left: 0.2em;position: relative;}#sk-container-id-1 div.sk-item {position: relative;z-index: 1;}#sk-container-id-1 div.sk-parallel {display: flex;align-items: stretch;justify-content: center;background-color: white;position: relative;}#sk-container-id-1 div.sk-item::before, #sk-container-id-1 div.sk-parallel-item::before {content: \"\";position: absolute;border-left: 1px solid gray;box-sizing: border-box;top: 0;bottom: 0;left: 50%;z-index: -1;}#sk-container-id-1 div.sk-parallel-item {display: flex;flex-direction: column;z-index: 1;position: relative;background-color: white;}#sk-container-id-1 div.sk-parallel-item:first-child::after {align-self: flex-end;width: 50%;}#sk-container-id-1 div.sk-parallel-item:last-child::after {align-self: flex-start;width: 50%;}#sk-container-id-1 div.sk-parallel-item:only-child::after {width: 0;}#sk-container-id-1 div.sk-dashed-wrapped {border: 1px dashed gray;margin: 0 0.4em 0.5em 0.4em;box-sizing: border-box;padding-bottom: 0.4em;background-color: white;}#sk-container-id-1 div.sk-label label {font-family: monospace;font-weight: bold;display: inline-block;line-height: 1.2em;}#sk-container-id-1 div.sk-label-container {text-align: center;}#sk-container-id-1 div.sk-container {/* jupyter's `normalize.less` sets `[hidden] { display: none; }` but bootstrap.min.css set `[hidden] { display: none !important; }` so we also need the `!important` here to be able to override the default hidden behavior on the sphinx rendered scikit-learn.org. See: https://github.com/scikit-learn/scikit-learn/issues/21755 */display: inline-block !important;position: relative;}#sk-container-id-1 div.sk-text-repr-fallback {display: none;}</style><div id=\"sk-container-id-1\" class=\"sk-top-container\"><div class=\"sk-text-repr-fallback\"><pre>RandomForestRegressor(random_state=10)</pre><b>In a Jupyter environment, please rerun this cell to show the HTML representation or trust the notebook. <br />On GitHub, the HTML representation is unable to render, please try loading this page with nbviewer.org.</b></div><div class=\"sk-container\" hidden><div class=\"sk-item\"><div class=\"sk-estimator sk-toggleable\"><input class=\"sk-toggleable__control sk-hidden--visually\" id=\"sk-estimator-id-1\" type=\"checkbox\" checked><label for=\"sk-estimator-id-1\" class=\"sk-toggleable__label sk-toggleable__label-arrow\">RandomForestRegressor</label><div class=\"sk-toggleable__content\"><pre>RandomForestRegressor(random_state=10)</pre></div></div></div></div></div>"
      ],
      "text/plain": [
       "RandomForestRegressor(random_state=10)"
      ]
     },
     "execution_count": 8,
     "metadata": {},
     "output_type": "execute_result"
    }
   ],
   "source": [
    "X_train, X_test, y_train, y_test = train_test_split(features, log_age, test_size=0.33, random_state=10)\n",
    "\n",
    "X_calib, X_val, y_calib, y_val = train_test_split(X_test, y_test, test_size=0.5, random_state=10)\n",
    "\n",
    "n = len(y_calib)\n",
    "\n",
    "n_val = len(y_val)\n",
    "\n",
    "#Train model\n",
    "\n",
    "model = RandomForestRegressor(random_state=10)\n",
    "\n",
    "model.fit(X_train, y_train)\n"
   ]
  },
  {
   "cell_type": "markdown",
   "id": "5eb4262d",
   "metadata": {},
   "source": [
    "### Simplest version of conformal predictions - generating intervals from point predictions."
   ]
  },
  {
   "cell_type": "markdown",
   "id": "0cd2996a",
   "metadata": {},
   "source": [
    "We can predict the labels for the calibration set and visualize absolute residuals:"
   ]
  },
  {
   "cell_type": "code",
   "execution_count": 9,
   "id": "425e7500",
   "metadata": {},
   "outputs": [],
   "source": [
    "y_calib_pred = model.predict(X_calib)"
   ]
  },
  {
   "cell_type": "code",
   "execution_count": 10,
   "id": "8ba839d5",
   "metadata": {},
   "outputs": [
    {
     "data": {
      "image/png": "[encoded data removed]",
      "text/plain": [
       "<Figure size 640x480 with 1 Axes>"
      ]
     },
     "metadata": {},
     "output_type": "display_data"
    }
   ],
   "source": [
    "plt.hist(np.abs(y_calib_pred - y_calib), bins = 40);"
   ]
  },
  {
   "cell_type": "markdown",
   "id": "f04a9256",
   "metadata": {},
   "source": [
    "Let's say that we are interested in 80% coverage; alpha = 0.2. We find the corresponding 80% quantile of the absolute residuals, with the usual finite sample size correction:"
   ]
  },
  {
   "cell_type": "code",
   "execution_count": 11,
   "id": "d90148bc",
   "metadata": {},
   "outputs": [],
   "source": [
    "alpha = 0.2"
   ]
  },
  {
   "cell_type": "code",
   "execution_count": 12,
   "id": "990fe1e9",
   "metadata": {},
   "outputs": [],
   "source": [
    "qhat = np.quantile(np.abs(y_calib_pred - y_calib), np.ceil((n+1)*(1-alpha))/n)"
   ]
  },
  {
   "cell_type": "code",
   "execution_count": 13,
   "id": "18a2188d",
   "metadata": {},
   "outputs": [
    {
     "data": {
      "text/plain": [
       "0.7055971501774867"
      ]
     },
     "execution_count": 13,
     "metadata": {},
     "output_type": "execute_result"
    }
   ],
   "source": [
    "qhat"
   ]
  },
  {
   "cell_type": "markdown",
   "id": "bfc41046",
   "metadata": {},
   "source": [
    "We can now generate intervals by adding this quantity on either side of the point predictions:"
   ]
  },
  {
   "cell_type": "code",
   "execution_count": 14,
   "id": "1a3abc81",
   "metadata": {},
   "outputs": [],
   "source": [
    "intervals = np.hstack([(y_calib_pred - qhat).reshape(-1,1), (y_calib_pred + qhat).reshape(-1,1)])"
   ]
  },
  {
   "cell_type": "markdown",
   "id": "e47baac2",
   "metadata": {},
   "source": [
    "#### To check calibration, we ask how often the true value is found in the intervals:"
   ]
  },
  {
   "cell_type": "code",
   "execution_count": 15,
   "id": "af898466",
   "metadata": {},
   "outputs": [],
   "source": [
    "#whether true value is in interval\n",
    "\n",
    "inint = np.array([intervals[i][0] < y_calib[i] < intervals[i][1] for i in range(len(y_calib))], dtype = int)"
   ]
  },
  {
   "cell_type": "code",
   "execution_count": 16,
   "id": "37faf884",
   "metadata": {},
   "outputs": [
    {
     "data": {
      "text/plain": [
       "0.806060606060606"
      ]
     },
     "execution_count": 16,
     "metadata": {},
     "output_type": "execute_result"
    }
   ],
   "source": [
    "inint.mean() #Success! (Coverage is as expected)"
   ]
  },
  {
   "cell_type": "markdown",
   "id": "16b1d872",
   "metadata": {},
   "source": [
    "We should also check that the coverage holds on the validation set:"
   ]
  },
  {
   "cell_type": "code",
   "execution_count": 17,
   "id": "aee3d03c",
   "metadata": {},
   "outputs": [
    {
     "data": {
      "text/plain": [
       "0.8363636363636363"
      ]
     },
     "execution_count": 17,
     "metadata": {},
     "output_type": "execute_result"
    }
   ],
   "source": [
    "y_val_pred = model.predict(X_val)\n",
    "intervals_val = np.hstack([(y_val_pred - qhat).reshape(-1,1), (y_val_pred + qhat).reshape(-1,1)])\n",
    "inint_val = np.array([intervals_val[i][0] < y_val[i] < intervals_val[i][1] for i in range(len(y_val))], dtype = int)\n",
    "inint_val = np.array([intervals_val[i][0] < y_val[i] < intervals_val[i][1] for i in range(len(y_val))], dtype = int)\n",
    "inint_val.mean() #Not bad! Should also marginalize over effect of split of data etc."
   ]
  },
  {
   "cell_type": "markdown",
   "id": "2d0f0115",
   "metadata": {},
   "source": [
    "### Conformalized Quantile Regression"
   ]
  },
  {
   "cell_type": "markdown",
   "id": "bbab17ce",
   "metadata": {},
   "source": [
    "We need to start with a model that can output quantile intervals, so we use conformalization to calibrate them.\n",
    "\n",
    "Here we use GradientBoostingRegression with quantile loss.\n",
    "\n",
    "Read about quantile loss:\n",
    "\n",
    "https://towardsdatascience.com/quantile-loss-and-quantile-regression-b0689c13f54d\n",
    "\n",
    "Example partially taken from: \n",
    "\n",
    "https://scikit-learn.org/stable/auto_examples/ensemble/plot_gradient_boosting_quantile.html\n",
    "\n",
    "and\n",
    "\n",
    "https://mapie.readthedocs.io/en/latest/examples_regression/1-quickstart/plot_prefit.html"
   ]
  },
  {
   "cell_type": "markdown",
   "id": "4123a349",
   "metadata": {},
   "source": [
    "Usage note: check data for irregularities in target distribution, which may affect the quantiles."
   ]
  },
  {
   "cell_type": "code",
   "execution_count": 18,
   "id": "01735f74",
   "metadata": {},
   "outputs": [],
   "source": [
    "all_models = {}\n",
    "\n",
    "for alpha in [0.05, 0.1, 0.5, 0.9, 0.95]:\n",
    "    gbr = GradientBoostingRegressor(loss = \"quantile\", alpha = alpha)\n",
    "    all_models[\"q %1.2f\" % alpha] = gbr.fit(X_train, y_train)"
   ]
  },
  {
   "cell_type": "code",
   "execution_count": 19,
   "id": "789f57cf",
   "metadata": {},
   "outputs": [
    {
     "data": {
      "text/plain": [
       "{'q 0.05': GradientBoostingRegressor(alpha=0.05, loss='quantile'),\n",
       " 'q 0.10': GradientBoostingRegressor(alpha=0.1, loss='quantile'),\n",
       " 'q 0.50': GradientBoostingRegressor(alpha=0.5, loss='quantile'),\n",
       " 'q 0.90': GradientBoostingRegressor(loss='quantile'),\n",
       " 'q 0.95': GradientBoostingRegressor(alpha=0.95, loss='quantile')}"
      ]
     },
     "execution_count": 19,
     "metadata": {},
     "output_type": "execute_result"
    }
   ],
   "source": [
    "all_models"
   ]
  },
  {
   "cell_type": "markdown",
   "id": "2e1253a2",
   "metadata": {},
   "source": [
    "Let's compute the conformal scores s(x,y) using alpha = 0.1 and 0.9 as quantiles (for 80% coverage), on the calibration set:"
   ]
  },
  {
   "cell_type": "code",
   "execution_count": 20,
   "id": "7bf9c824",
   "metadata": {},
   "outputs": [],
   "source": [
    "y_pred_cal_q_hi = all_models[\"q 0.90\"].predict(X_calib) \n",
    "\n",
    "y_pred_cal_q_lo = all_models[\"q 0.10\"].predict(X_calib) "
   ]
  },
  {
   "cell_type": "code",
   "execution_count": 21,
   "id": "8388dbf4",
   "metadata": {},
   "outputs": [],
   "source": [
    "intervals = np.hstack([y_pred_cal_q_lo.reshape(-1,1), y_pred_cal_q_hi.reshape(-1,1)])"
   ]
  },
  {
   "cell_type": "markdown",
   "id": "da89db96",
   "metadata": {},
   "source": [
    "The spread in the width of the intervals shows the natural adaptivity for quantile regression:"
   ]
  },
  {
   "cell_type": "code",
   "execution_count": 22,
   "id": "286aa794",
   "metadata": {},
   "outputs": [
    {
     "data": {
      "image/png": "[encoded data removed]",
      "text/plain": [
       "<Figure size 640x480 with 1 Axes>"
      ]
     },
     "metadata": {},
     "output_type": "display_data"
    }
   ],
   "source": [
    "plt.hist(y_pred_cal_q_hi-y_pred_cal_q_lo, bins = 100);"
   ]
  },
  {
   "cell_type": "markdown",
   "id": "97473afa",
   "metadata": {},
   "source": [
    "This below is just a visualization of true values vs predicted intervals:"
   ]
  },
  {
   "cell_type": "code",
   "execution_count": 23,
   "id": "4ce486b9",
   "metadata": {},
   "outputs": [
    {
     "data": {
      "image/png": "[encoded data removed]",
      "text/plain": [
       "<Figure size 1000x1000 with 1 Axes>"
      ]
     },
     "metadata": {},
     "output_type": "display_data"
    }
   ],
   "source": [
    "fig = plt.figure(figsize=(10, 10))\n",
    "plt.scatter(range(len(y_calib)), y_calib, c ='k', s = 10, label = \"True value\")\n",
    "plt.fill_between(\n",
    "    range(len(y_calib)), y_pred_cal_q_lo, y_pred_cal_q_hi, step = 'mid', alpha=0.4, label=\"Predicted 80% interval\"\n",
    ")\n",
    "plt.xlabel(\"Object\")\n",
    "plt.ylabel(\"Intervals\")\n",
    "plt.legend(loc=\"upper left\")\n",
    "plt.show()"
   ]
  },
  {
   "cell_type": "markdown",
   "id": "08c0a783",
   "metadata": {},
   "source": [
    "#### More formally, we can ask: what fraction of true values lies in the 80% region?"
   ]
  },
  {
   "cell_type": "code",
   "execution_count": 24,
   "id": "f20da335",
   "metadata": {},
   "outputs": [],
   "source": [
    "inint = np.array([intervals[i][0] < y_calib[i] < intervals[i][1] for i in range(len(y_calib))], dtype = int)"
   ]
  },
  {
   "cell_type": "code",
   "execution_count": 25,
   "id": "e285167c",
   "metadata": {},
   "outputs": [
    {
     "data": {
      "text/plain": [
       "0.7393939393939394"
      ]
     },
     "execution_count": 25,
     "metadata": {},
     "output_type": "execute_result"
    }
   ],
   "source": [
    "inint.mean() #Target: 0.80"
   ]
  },
  {
   "cell_type": "markdown",
   "id": "800bc111",
   "metadata": {},
   "source": [
    "### Calibration:"
   ]
  },
  {
   "cell_type": "markdown",
   "id": "ab0517aa",
   "metadata": {},
   "source": [
    "These below are the conformal scores for conformal quantile regression (for 80% coverage, i.e. 10/90 quantiles):"
   ]
  },
  {
   "cell_type": "code",
   "execution_count": 26,
   "id": "2420518a",
   "metadata": {},
   "outputs": [],
   "source": [
    "s10_90 = np.array([max(y_pred_cal_q_lo[i] - y_calib[i], y_calib[i] - y_pred_cal_q_hi[i]) for i in range(len(y_calib))])"
   ]
  },
  {
   "cell_type": "code",
   "execution_count": 27,
   "id": "e685fa4e",
   "metadata": {},
   "outputs": [
    {
     "data": {
      "image/png": "[encoded data removed]",
      "text/plain": [
       "<Figure size 640x480 with 1 Axes>"
      ]
     },
     "metadata": {},
     "output_type": "display_data"
    }
   ],
   "source": [
    "#We can take a look at the scores distribution:\n",
    "\n",
    "plt.hist(s10_90, bins = 100);"
   ]
  },
  {
   "cell_type": "code",
   "execution_count": 28,
   "id": "bc2cbe26",
   "metadata": {},
   "outputs": [],
   "source": [
    "# Get the score quantile for alpha = 0.2 (corresponding to 80% coverage, i.e. quantiles 0.1 and 0.9)\n",
    "\n",
    "alpha = 0.2\n",
    "\n",
    "correction = np.quantile(s10_90, np.ceil((n+1)*(1-alpha))/n, method='higher')"
   ]
  },
  {
   "cell_type": "markdown",
   "id": "13fff0a1",
   "metadata": {},
   "source": [
    "Now we build the new intervals by applying the correction:"
   ]
  },
  {
   "cell_type": "code",
   "execution_count": 29,
   "id": "cf199e77",
   "metadata": {},
   "outputs": [],
   "source": [
    "intervals_10_90 = np.hstack([(intervals[:,0] - correction).reshape(-1,1), (intervals[:,1] + correction).reshape(-1,1)])"
   ]
  },
  {
   "cell_type": "code",
   "execution_count": 30,
   "id": "d0ed377c",
   "metadata": {},
   "outputs": [],
   "source": [
    "inint_10_90 = np.array([intervals_10_90[i][0] < y_calib[i] < intervals_10_90[i][1] for i in range(len(y_calib))], dtype = int)"
   ]
  },
  {
   "cell_type": "code",
   "execution_count": 31,
   "id": "a5f30fda",
   "metadata": {},
   "outputs": [
    {
     "data": {
      "text/plain": [
       "0.806060606060606"
      ]
     },
     "execution_count": 31,
     "metadata": {},
     "output_type": "execute_result"
    }
   ],
   "source": [
    "inint_10_90.mean() #Success!"
   ]
  },
  {
   "cell_type": "markdown",
   "id": "368eb34e",
   "metadata": {},
   "source": [
    "Finally, we can apply the same correction to the validation set:"
   ]
  },
  {
   "cell_type": "code",
   "execution_count": 32,
   "id": "6e7c0e16",
   "metadata": {
    "slideshow": {
     "slide_type": "slide"
    }
   },
   "outputs": [
    {
     "data": {
      "text/plain": [
       "0.8606060606060606"
      ]
     },
     "execution_count": 32,
     "metadata": {},
     "output_type": "execute_result"
    }
   ],
   "source": [
    "y_pred_val_q_hi = all_models[\"q 0.90\"].predict(X_val) \n",
    "\n",
    "y_pred_val_q_lo = all_models[\"q 0.10\"].predict(X_val) \n",
    "\n",
    "intervals = np.hstack([y_pred_val_q_lo.reshape(-1,1), y_pred_val_q_hi.reshape(-1,1)]) # original\n",
    "\n",
    "intervals_10_90 = np.hstack([(intervals[:,0] - correction).reshape(-1,1), (intervals[:,1] + correction).reshape(-1,1)])\n",
    "\n",
    "inint_10_90 = np.array([intervals_10_90[i][0] < y_val[i] < intervals_10_90[i][1] for i in range(len(y_val))], dtype = int)\n",
    "\n",
    "inint_10_90.mean() #Target: 0.80"
   ]
  },
  {
   "cell_type": "markdown",
   "id": "6aa776aa",
   "metadata": {
    "slideshow": {
     "slide_type": "slide"
    }
   },
   "source": [
    "#### We can also do the same thing with MAPIE:"
   ]
  },
  {
   "cell_type": "code",
   "execution_count": 33,
   "id": "8c1dfe71",
   "metadata": {},
   "outputs": [
    {
     "name": "stdout",
     "output_type": "stream",
     "text": [
      "Coverage on calibration set: 0.81\n",
      "Coverage on validation set: 0.86\n"
     ]
    },
    {
     "name": "stderr",
     "output_type": "stream",
     "text": [
      "/Users/vivi/anaconda3/lib/python3.11/site-packages/mapie/regression/quantile_regression.py:201: UserWarning: WARNING: The alpha that is set needs to be the same as the alpha of your prefitted model in the following order [alpha/2, 1 - alpha/2, 0.5]\n",
      "  warnings.warn(\n",
      "/Users/vivi/anaconda3/lib/python3.11/site-packages/mapie/utils.py:598: UserWarning: WARNING: The predictions are ill-sorted.\n",
      "  warnings.warn(\n",
      "/Users/vivi/anaconda3/lib/python3.11/site-packages/mapie/utils.py:598: UserWarning: WARNING: The predictions are ill-sorted.\n",
      "  warnings.warn(\n",
      "/Users/vivi/anaconda3/lib/python3.11/site-packages/mapie/utils.py:598: UserWarning: WARNING: The predictions are ill-sorted.\n",
      "  warnings.warn(\n",
      "/Users/vivi/anaconda3/lib/python3.11/site-packages/mapie/utils.py:598: UserWarning: WARNING: The predictions are ill-sorted.\n",
      "  warnings.warn(\n",
      "/Users/vivi/anaconda3/lib/python3.11/site-packages/mapie/utils.py:598: UserWarning: WARNING: The predictions are ill-sorted.\n",
      "  warnings.warn(\n",
      "/Users/vivi/anaconda3/lib/python3.11/site-packages/mapie/utils.py:598: UserWarning: WARNING: The predictions are ill-sorted.\n",
      "  warnings.warn(\n"
     ]
    }
   ],
   "source": [
    "# Calibrate uncertainties on calibration set\n",
    "mapie_cqr = MapieQuantileRegressor([all_models[\"q 0.10\"], all_models[\"q 0.90\"], all_models[\"q 0.50\"]], cv=\"prefit\", alpha=0.2)\n",
    "\n",
    "mapie_cqr.fit(X_calib, y_calib)\n",
    "\n",
    "# Evaluate prediction and coverage level on calibration set\n",
    "y_pred_cqr, y_pis_cqr = mapie_cqr.predict(X_calib)\n",
    "coverage_cqr = regression_coverage_score(\n",
    "    y_calib,\n",
    "    y_pis_cqr[:, 0, 0],\n",
    "    y_pis_cqr[:, 1, 0]\n",
    ")\n",
    "\n",
    "print('Coverage on calibration set:', '%.2f' % coverage_cqr)\n",
    "\n",
    "# Evaluate prediction and coverage level on testing set\n",
    "y_pred_cqr, y_pis_cqr = mapie_cqr.predict(X_val)\n",
    "coverage_cqr = regression_coverage_score(\n",
    "    y_val,\n",
    "    y_pis_cqr[:, 0, 0],\n",
    "    y_pis_cqr[:, 1, 0]\n",
    ")\n",
    "\n",
    "print('Coverage on validation set:', '%.2f' %  coverage_cqr) #Very similar"
   ]
  },
  {
   "cell_type": "code",
   "execution_count": null,
   "id": "3af15ef0",
   "metadata": {},
   "outputs": [],
   "source": []
  }
 ],
 "metadata": {
  "kernelspec": {
   "display_name": "Python 3 (ipykernel)",
   "language": "python",
   "name": "python3"
  },
  "language_info": {
   "codemirror_mode": {
    "name": "ipython",
    "version": 3
   },
   "file_extension": ".py",
   "mimetype": "text/x-python",
   "name": "python",
   "nbconvert_exporter": "python",
   "pygments_lexer": "ipython3",
   "version": "3.11.6"
  }
 },
 "nbformat": 4,
 "nbformat_minor": 5
}
